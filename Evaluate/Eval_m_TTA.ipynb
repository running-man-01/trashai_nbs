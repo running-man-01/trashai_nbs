{
  "cells": [
    {
      "cell_type": "code",
      "source": [
        "#evaluation of yolo with test time augmentation"
      ],
      "metadata": {
        "id": "5VFctrilGJTG"
      },
      "execution_count": null,
      "outputs": []
    },
    {
      "cell_type": "code",
      "source": [
        "# get the trained model weights that you want to evaluate\n",
        "\n",
        "%cp /gdrive/MyDrive/yolo_m_500/exp/weights/best.pt /content/weights.pt"
      ],
      "metadata": {
        "id": "962qfDPURgu_"
      },
      "execution_count": null,
      "outputs": []
    },
    {
      "cell_type": "markdown",
      "metadata": {
        "id": "qN8V989HzHDT"
      },
      "source": [
        "# Evaluation\n",
        "\n",
        "- classes are type of materials. i.e. glass bottle, shattered glass, etc. are all detected as class `glass`.\n",
        "\n",
        "- trivial bounding boxes (for example smaller than 50\\*50 pixel^2 on a 3000\\*4000 image) are ignored (neither learned or tested)\n",
        "\n",
        "- with `Test Time Augementation`."
      ]
    },
    {
      "cell_type": "markdown",
      "source": [
        "Usually, Object Detection tasks are measured by `mAP`, which is also the default metrics YoloV5 uses. One can also refer to `Precision` and `Recall` metrics reported.\n",
        "\n",
        "But if an `accuracy` metric is specifically needed, we could define it as:\n",
        "\n",
        "$$\\text{Accuracy} = \\frac{\\text{Number of correctly detected objects}}{\\text{Total number of objects}}$$\n",
        "\n",
        "A comparison of `Accuracy, Precision, Recall` in classification's setting:\n",
        "$$\n",
        "\\text{Accuracy} = \\frac{TP+TN}{TP+TN+FP+FN}\n",
        "$$\n",
        "\n",
        "$$\\text{Precision} = \\frac{TP}{TP+FP}\n",
        "$$\n",
        "\n",
        "$$\\text{Recall} = \\frac{TP}{TP+FN}\n",
        "$$\n",
        "\n",
        "CC: https://developers.google.com/machine-learning/crash-course/classification/accuracy\n",
        "\n",
        "Note that in object detection, a negative result equals to no detection. This brings some chaos to the definition of `accuracy`.\n",
        "\n",
        "`Detection`'s definition: For each object with a truth bounding box , if there is a prediction bounding box that has an IOU > threshold with that truth bounding box, the object is counted as `detected`.\n",
        "\n",
        "For overall model `accuracy`, we count total number of `detected` over total number of `objects` of all images."
      ],
      "metadata": {
        "id": "4ECihNK1DGP5"
      }
    },
    {
      "cell_type": "code",
      "execution_count": null,
      "metadata": {
        "id": "R_Dc3-3xaTwr"
      },
      "outputs": [],
      "source": [
        "low_memory = True # True if your instance has low memory"
      ]
    },
    {
      "cell_type": "code",
      "execution_count": null,
      "metadata": {
        "colab": {
          "base_uri": "https://localhost:8080/"
        },
        "id": "0D7J191IYwp8",
        "outputId": "95e6f70e-99e4-490c-baf3-cc87e8bcf431"
      },
      "outputs": [
        {
          "output_type": "stream",
          "name": "stdout",
          "text": [
            "Fri Mar  3 06:23:02 2023       \n",
            "+-----------------------------------------------------------------------------+\n",
            "| NVIDIA-SMI 525.85.12    Driver Version: 525.85.12    CUDA Version: 12.0     |\n",
            "|-------------------------------+----------------------+----------------------+\n",
            "| GPU  Name        Persistence-M| Bus-Id        Disp.A | Volatile Uncorr. ECC |\n",
            "| Fan  Temp  Perf  Pwr:Usage/Cap|         Memory-Usage | GPU-Util  Compute M. |\n",
            "|                               |                      |               MIG M. |\n",
            "|===============================+======================+======================|\n",
            "|   0  NVIDIA A100-SXM...  Off  | 00000000:00:04.0 Off |                    0 |\n",
            "| N/A   44C    P0    53W / 400W |      0MiB / 40960MiB |      0%      Default |\n",
            "|                               |                      |             Disabled |\n",
            "+-------------------------------+----------------------+----------------------+\n",
            "                                                                               \n",
            "+-----------------------------------------------------------------------------+\n",
            "| Processes:                                                                  |\n",
            "|  GPU   GI   CI        PID   Type   Process name                  GPU Memory |\n",
            "|        ID   ID                                                   Usage      |\n",
            "|=============================================================================|\n",
            "|  No running processes found                                                 |\n",
            "+-----------------------------------------------------------------------------+\n"
          ]
        }
      ],
      "source": [
        "!nvidia-smi"
      ]
    },
    {
      "cell_type": "markdown",
      "metadata": {
        "id": "_9jgRJYlL_-H"
      },
      "source": [
        "# 0. Prep works, install yolov5, download and partition datasets"
      ]
    },
    {
      "cell_type": "code",
      "execution_count": null,
      "metadata": {
        "id": "2TTOdqkAk_Ad"
      },
      "outputs": [],
      "source": [
        "%%capture\n",
        "%cd /content/\n",
        "%rm -rf /content/*\n",
        "!git clone https://github.com/ultralytics/yolov5 \n",
        "%cd yolov5\n",
        "!pip install -r requirements.txt #wandb\n",
        "%cd .."
      ]
    },
    {
      "cell_type": "code",
      "execution_count": null,
      "metadata": {
        "id": "FBHHieZsCbGS"
      },
      "outputs": [],
      "source": [
        "%%capture\n",
        "!wget https://raw.githubusercontent.com/scikit-multilearn/scikit-multilearn/master/skmultilearn/model_selection/iterative_stratification.py\n",
        "from iterative_stratification import *\n",
        "from collections import Counter\n",
        "\n",
        "from PIL import Image, ExifTags\n",
        "from pycocotools.coco import COCO\n",
        "from matplotlib.patches import Polygon, Rectangle\n",
        "from matplotlib.collections import PatchCollection\n",
        "import colorsys\n",
        "import random\n",
        "import pylab\n",
        "\n",
        "import json\n",
        "import numpy as np\n",
        "import pandas as pd\n",
        "import matplotlib.pyplot as plt\n",
        "import seaborn as sns; sns.set()\n",
        "\n",
        "import shutil\n",
        "import os\n",
        "import re\n",
        "\n",
        "import torch\n",
        "from torch.utils.data import Dataset, DataLoader\n",
        "from torchvision import transforms, utils\n",
        "\n",
        "from functools import partial\n",
        "from tqdm import tqdm\n",
        "tqdm = partial(tqdm, position=0, leave=True)"
      ]
    },
    {
      "cell_type": "code",
      "execution_count": null,
      "metadata": {
        "colab": {
          "base_uri": "https://localhost:8080/"
        },
        "id": "M0nSxY0wdrr2",
        "outputId": "e686777e-c88e-45e6-e151-4c1d94c750d6"
      },
      "outputs": [
        {
          "output_type": "stream",
          "name": "stdout",
          "text": [
            "Mounted at /gdrive\n"
          ]
        }
      ],
      "source": [
        "# get images\n",
        "from google.colab import drive\n",
        "drive.mount('/gdrive')\n",
        "if not os.path.isfile('/content/rotated2.zip'):\n",
        "  %cp /gdrive/MyDrive/rotated2_og.zip /content/rotated2.zip"
      ]
    },
    {
      "cell_type": "code",
      "execution_count": null,
      "metadata": {
        "id": "Pfvddv2pS_ZX"
      },
      "outputs": [],
      "source": [
        "%rm -rf /content/TACO/\n",
        "!unzip -qq /content/rotated2.zip \n",
        "\n",
        "%mv /content/content/* /content/TACO/\n"
      ]
    },
    {
      "cell_type": "code",
      "execution_count": null,
      "metadata": {
        "id": "wrpSIe5OWTF1"
      },
      "outputs": [],
      "source": [
        "%%capture\n",
        "!wget https://raw.githubusercontent.com/pedropro/TACO/master/data/annotations.json\n",
        "\n",
        "base_anno = './annotations.json'\n",
        "base_coco_anno = COCO(annotation_file=base_anno)\n",
        "\n",
        "with open(base_anno, 'r') as f:\n",
        "    base_anno = json.loads(f.read())\n",
        "\n",
        "anno_path = './annotations.json'\n",
        "annos = COCO(annotation_file=anno_path)\n",
        "!wget https://raw.githubusercontent.com/running-man-01/utilities/main/material_key.csv\n"
      ]
    },
    {
      "cell_type": "markdown",
      "source": [
        "## Material Key\n",
        "\n",
        "This sheet shows how we project original TACO categories onto material classes."
      ],
      "metadata": {
        "id": "NEBcyEQ5Twj9"
      }
    },
    {
      "cell_type": "code",
      "source": [
        "mkey = pd.read_csv('./material_key.csv')\n",
        "mkey_dict = {i:j for i,j in zip(mkey.cat_id, mkey.m_id)}\n",
        "mkey[:6]"
      ],
      "metadata": {
        "colab": {
          "base_uri": "https://localhost:8080/",
          "height": 237
        },
        "id": "Knzmyoi77F25",
        "outputId": "91f64aca-2c9e-4b24-84ff-fbea79c9e057"
      },
      "execution_count": null,
      "outputs": [
        {
          "output_type": "execute_result",
          "data": {
            "text/plain": [
              "   cat_id                category  m_id material illustration  illustration_\n",
              "0       0          Aluminium foil     0    metal        metal            0.0\n",
              "1       1                 Battery     0    metal      plastic            1.0\n",
              "2       2  Aluminium blister pack     0    metal        glass            2.0\n",
              "3       3     Carded blister pack     1  plastic        paper            3.0\n",
              "4       4    Other plastic bottle     1  plastic        other            4.0\n",
              "5       5    Clear plastic bottle     1  plastic          NaN            NaN"
            ],
            "text/html": [
              "\n",
              "  <div id=\"df-07dc212f-0d5d-4a8b-8932-6c0a5df241a2\">\n",
              "    <div class=\"colab-df-container\">\n",
              "      <div>\n",
              "<style scoped>\n",
              "    .dataframe tbody tr th:only-of-type {\n",
              "        vertical-align: middle;\n",
              "    }\n",
              "\n",
              "    .dataframe tbody tr th {\n",
              "        vertical-align: top;\n",
              "    }\n",
              "\n",
              "    .dataframe thead th {\n",
              "        text-align: right;\n",
              "    }\n",
              "</style>\n",
              "<table border=\"1\" class=\"dataframe\">\n",
              "  <thead>\n",
              "    <tr style=\"text-align: right;\">\n",
              "      <th></th>\n",
              "      <th>cat_id</th>\n",
              "      <th>category</th>\n",
              "      <th>m_id</th>\n",
              "      <th>material</th>\n",
              "      <th>illustration</th>\n",
              "      <th>illustration_</th>\n",
              "    </tr>\n",
              "  </thead>\n",
              "  <tbody>\n",
              "    <tr>\n",
              "      <th>0</th>\n",
              "      <td>0</td>\n",
              "      <td>Aluminium foil</td>\n",
              "      <td>0</td>\n",
              "      <td>metal</td>\n",
              "      <td>metal</td>\n",
              "      <td>0.0</td>\n",
              "    </tr>\n",
              "    <tr>\n",
              "      <th>1</th>\n",
              "      <td>1</td>\n",
              "      <td>Battery</td>\n",
              "      <td>0</td>\n",
              "      <td>metal</td>\n",
              "      <td>plastic</td>\n",
              "      <td>1.0</td>\n",
              "    </tr>\n",
              "    <tr>\n",
              "      <th>2</th>\n",
              "      <td>2</td>\n",
              "      <td>Aluminium blister pack</td>\n",
              "      <td>0</td>\n",
              "      <td>metal</td>\n",
              "      <td>glass</td>\n",
              "      <td>2.0</td>\n",
              "    </tr>\n",
              "    <tr>\n",
              "      <th>3</th>\n",
              "      <td>3</td>\n",
              "      <td>Carded blister pack</td>\n",
              "      <td>1</td>\n",
              "      <td>plastic</td>\n",
              "      <td>paper</td>\n",
              "      <td>3.0</td>\n",
              "    </tr>\n",
              "    <tr>\n",
              "      <th>4</th>\n",
              "      <td>4</td>\n",
              "      <td>Other plastic bottle</td>\n",
              "      <td>1</td>\n",
              "      <td>plastic</td>\n",
              "      <td>other</td>\n",
              "      <td>4.0</td>\n",
              "    </tr>\n",
              "    <tr>\n",
              "      <th>5</th>\n",
              "      <td>5</td>\n",
              "      <td>Clear plastic bottle</td>\n",
              "      <td>1</td>\n",
              "      <td>plastic</td>\n",
              "      <td>NaN</td>\n",
              "      <td>NaN</td>\n",
              "    </tr>\n",
              "  </tbody>\n",
              "</table>\n",
              "</div>\n",
              "      <button class=\"colab-df-convert\" onclick=\"convertToInteractive('df-07dc212f-0d5d-4a8b-8932-6c0a5df241a2')\"\n",
              "              title=\"Convert this dataframe to an interactive table.\"\n",
              "              style=\"display:none;\">\n",
              "        \n",
              "  <svg xmlns=\"http://www.w3.org/2000/svg\" height=\"24px\"viewBox=\"0 0 24 24\"\n",
              "       width=\"24px\">\n",
              "    <path d=\"M0 0h24v24H0V0z\" fill=\"none\"/>\n",
              "    <path d=\"M18.56 5.44l.94 2.06.94-2.06 2.06-.94-2.06-.94-.94-2.06-.94 2.06-2.06.94zm-11 1L8.5 8.5l.94-2.06 2.06-.94-2.06-.94L8.5 2.5l-.94 2.06-2.06.94zm10 10l.94 2.06.94-2.06 2.06-.94-2.06-.94-.94-2.06-.94 2.06-2.06.94z\"/><path d=\"M17.41 7.96l-1.37-1.37c-.4-.4-.92-.59-1.43-.59-.52 0-1.04.2-1.43.59L10.3 9.45l-7.72 7.72c-.78.78-.78 2.05 0 2.83L4 21.41c.39.39.9.59 1.41.59.51 0 1.02-.2 1.41-.59l7.78-7.78 2.81-2.81c.8-.78.8-2.07 0-2.86zM5.41 20L4 18.59l7.72-7.72 1.47 1.35L5.41 20z\"/>\n",
              "  </svg>\n",
              "      </button>\n",
              "      \n",
              "  <style>\n",
              "    .colab-df-container {\n",
              "      display:flex;\n",
              "      flex-wrap:wrap;\n",
              "      gap: 12px;\n",
              "    }\n",
              "\n",
              "    .colab-df-convert {\n",
              "      background-color: #E8F0FE;\n",
              "      border: none;\n",
              "      border-radius: 50%;\n",
              "      cursor: pointer;\n",
              "      display: none;\n",
              "      fill: #1967D2;\n",
              "      height: 32px;\n",
              "      padding: 0 0 0 0;\n",
              "      width: 32px;\n",
              "    }\n",
              "\n",
              "    .colab-df-convert:hover {\n",
              "      background-color: #E2EBFA;\n",
              "      box-shadow: 0px 1px 2px rgba(60, 64, 67, 0.3), 0px 1px 3px 1px rgba(60, 64, 67, 0.15);\n",
              "      fill: #174EA6;\n",
              "    }\n",
              "\n",
              "    [theme=dark] .colab-df-convert {\n",
              "      background-color: #3B4455;\n",
              "      fill: #D2E3FC;\n",
              "    }\n",
              "\n",
              "    [theme=dark] .colab-df-convert:hover {\n",
              "      background-color: #434B5C;\n",
              "      box-shadow: 0px 1px 3px 1px rgba(0, 0, 0, 0.15);\n",
              "      filter: drop-shadow(0px 1px 2px rgba(0, 0, 0, 0.3));\n",
              "      fill: #FFFFFF;\n",
              "    }\n",
              "  </style>\n",
              "\n",
              "      <script>\n",
              "        const buttonEl =\n",
              "          document.querySelector('#df-07dc212f-0d5d-4a8b-8932-6c0a5df241a2 button.colab-df-convert');\n",
              "        buttonEl.style.display =\n",
              "          google.colab.kernel.accessAllowed ? 'block' : 'none';\n",
              "\n",
              "        async function convertToInteractive(key) {\n",
              "          const element = document.querySelector('#df-07dc212f-0d5d-4a8b-8932-6c0a5df241a2');\n",
              "          const dataTable =\n",
              "            await google.colab.kernel.invokeFunction('convertToInteractive',\n",
              "                                                     [key], {});\n",
              "          if (!dataTable) return;\n",
              "\n",
              "          const docLinkHtml = 'Like what you see? Visit the ' +\n",
              "            '<a target=\"_blank\" href=https://colab.research.google.com/notebooks/data_table.ipynb>data table notebook</a>'\n",
              "            + ' to learn more about interactive tables.';\n",
              "          element.innerHTML = '';\n",
              "          dataTable['output_type'] = 'display_data';\n",
              "          await google.colab.output.renderOutput(dataTable, element);\n",
              "          const docLink = document.createElement('div');\n",
              "          docLink.innerHTML = docLinkHtml;\n",
              "          element.appendChild(docLink);\n",
              "        }\n",
              "      </script>\n",
              "    </div>\n",
              "  </div>\n",
              "  "
            ]
          },
          "metadata": {},
          "execution_count": 8
        }
      ]
    },
    {
      "cell_type": "markdown",
      "source": [
        "## Prepare labels"
      ],
      "metadata": {
        "id": "9XksfFAAUIhD"
      }
    },
    {
      "cell_type": "code",
      "execution_count": null,
      "metadata": {
        "colab": {
          "base_uri": "https://localhost:8080/"
        },
        "id": "nbwKD15fKpfa",
        "outputId": "f290977a-6dec-4e0c-c00c-db38213a586d"
      },
      "outputs": [
        {
          "output_type": "stream",
          "name": "stderr",
          "text": [
            "100%|██████████| 1500/1500 [00:00<00:00, 9740.05it/s]"
          ]
        },
        {
          "output_type": "stream",
          "name": "stdout",
          "text": [
            "\n",
            "\n",
            "Number of skipped bbox, number of bbox in all:\n"
          ]
        },
        {
          "output_type": "stream",
          "name": "stderr",
          "text": [
            "\n"
          ]
        },
        {
          "output_type": "execute_result",
          "data": {
            "text/plain": [
              "(876, 4784)"
            ]
          },
          "metadata": {},
          "execution_count": 9
        }
      ],
      "source": [
        "import copy\n",
        "bbox_thold =  50*50 # threshold of bbox under which bbox will be discarded being too small\n",
        "                  # threshold value = width*height, e.g. 40*40 = 1600 pixels\n",
        "\n",
        "dst = \"./TACO\"\n",
        "\n",
        "%rm -rf ./TACO/labels #reset labels\n",
        "!mkdir ./TACO/labels\n",
        "\n",
        "base_imgs = base_anno['images']\n",
        "\n",
        "\n",
        "counter = 0\n",
        "skip_counter = 0\n",
        "obj_counter=0\n",
        "for img in tqdm(base_imgs):\n",
        "  height = img['height']\n",
        "  width = img['width']\n",
        "\n",
        "  # reorganize images\n",
        "  img_id = img['id']\n",
        "\n",
        "  annotation_ids = base_coco_anno.getAnnIds(img_id)\n",
        "\n",
        "  if len(annotation_ids) == 0:\n",
        "    continue\n",
        "\n",
        "  with open(dst+'/labels/'+str(img_id)+'.txt', mode='w') as fp:\n",
        "    annotations = base_coco_anno.loadAnns(annotation_ids)\n",
        "    lines = ''\n",
        "    for annotation in annotations:\n",
        "      obj_counter+=1\n",
        "      class_ = copy.copy(annotation['category_id'])\n",
        "      class_ = mkey_dict[class_]\n",
        "      box = copy.copy(annotation['bbox'])\n",
        "\n",
        "      # some annotations have basically no width / height (extremely small), skip them\n",
        "      if box[2] * box[3] < bbox_thold:\n",
        "        skip_counter+=1 # count number of skippped bbox for being too small\n",
        "\n",
        "        # uncomment below line to see which images have bbox skipped\n",
        "        #print('bbox too small, skipped. skipped bbox is in image ID:'+ str(img_id))\n",
        "        continue\n",
        "      # top_x,top_y,width,height ----> cen_x,cen_y,width,height\n",
        "      # standardize to 0-1\n",
        "      box[0] = round((box[0] + box[2] / 2) / width, 6)\n",
        "      box[1] = round((box[1] + box[3] / 2) / height, 6)\n",
        "      box[2] = round(box[2] / width, 6)\n",
        "      box[3] = round(box[3] / height, 6)\n",
        "      # line: super_id x_center y_center width height\n",
        "      lines += str(class_)\n",
        "      for i in box:\n",
        "        lines += ' ' + str(i)\n",
        "      lines = lines+ '\\n'\n",
        "    fp.writelines(lines)\n",
        "\n",
        "  counter+=1\n",
        "\n",
        "\n",
        "print('\\n\\nNumber of skipped bbox, number of bbox in all:')\n",
        "skip_counter,obj_counter"
      ]
    },
    {
      "cell_type": "code",
      "execution_count": null,
      "metadata": {
        "colab": {
          "base_uri": "https://localhost:8080/"
        },
        "id": "CPFCzX31IGBq",
        "outputId": "0bba6e22-5087-474a-a3c7-b753c4c3adaf"
      },
      "outputs": [
        {
          "output_type": "stream",
          "name": "stdout",
          "text": [
            "Number of all images:\n",
            "1500\n"
          ]
        },
        {
          "output_type": "stream",
          "name": "stderr",
          "text": [
            "100%|██████████| 1500/1500 [00:02<00:00, 566.53it/s]\n"
          ]
        }
      ],
      "source": [
        "nr_imgs=None\n",
        "for root, dirnames, filenames in os.walk('./TACO/labels/'):\n",
        "  nr_imgs = len(filenames)\n",
        "  break\n",
        "print('Number of all images:\\n'+str(nr_imgs))\n",
        "\n",
        "nr_class = len(set(mkey_dict.values()))\n",
        "\n",
        "\n",
        "xy = {}\n",
        "for i in tqdm(range(nr_imgs)):\n",
        "  try: \n",
        "    X = open('./TACO/labels/'+str(i)+'.txt','r')\n",
        "    lines = X.readlines()\n",
        "    classes = [int(line.split()[0]) for line in lines]\n",
        "    x = pd.DataFrame([Counter(classes)],columns=[*range(nr_class)]).fillna(0).astype(int).iloc[[0]].squeeze().tolist()\n",
        "    y=i\n",
        "    xy[y]=x\n",
        "\n",
        "  except: \n",
        "    print('\\nimage id number '+str(i)+' skipped due to no label found')\n",
        "    pass\n",
        "X = pd.DataFrame.from_dict(xy, orient='index')\n",
        "\n",
        "y = xy.keys()\n",
        "one_hot_y = pd.get_dummies(y)\n",
        "\n",
        "## train test split\n",
        "'''\n",
        "train: images/train\n",
        "val: images/val\n",
        "test: images/test\n",
        "'''\n",
        "\n",
        "np.random.seed(1) # sk-multilearn is based on sk, sk uses np random state. \n",
        "                  # so, setting np random seed will clamp the results of iterative_train_test_split\n",
        "\n",
        "X_train, y_train, X_temp, y_temp = iterative_train_test_split(X.values, one_hot_y.values, test_size = 0.5)\n",
        "X_train1, y_train1, X_val, y_val = iterative_train_test_split(X_temp, y_temp, test_size = 0.5)\n",
        "X_val, y_val,X_test,y_test = iterative_train_test_split(X_val, y_val, test_size = 0.5)\n",
        "\n",
        "# ISSUE: in this environment, any test_size!= 0.5 results in nothing in testing set. \n",
        "# therefore train/val/test split is roughly .75, .125, .125\n",
        "\n",
        "y_train = np.vstack((y_train,y_train1))\n",
        "train_ids,val_ids,test_ids = pd.DataFrame(y_train,columns = y).idxmax(axis=1).tolist(),\\\n",
        "                            pd.DataFrame(y_val,columns = y).idxmax(axis=1).tolist(),\\\n",
        "                            pd.DataFrame(y_test,columns = y).idxmax(axis=1).tolist()"
      ]
    },
    {
      "cell_type": "code",
      "execution_count": null,
      "metadata": {
        "colab": {
          "base_uri": "https://localhost:8080/",
          "height": 602
        },
        "id": "g_66okFNgHUF",
        "outputId": "a664a507-04c6-44b6-90eb-2a456a85aab8"
      },
      "outputs": [
        {
          "output_type": "display_data",
          "data": {
            "text/plain": [
              "<Figure size 960x640 with 1 Axes>"
            ],
            "image/png": "[encoded data removed]"
          },
          "metadata": {}
        }
      ],
      "source": [
        "# Visual check of train-test split\n",
        "\n",
        "def list_add(list1, list2): \n",
        "  return [sum(x) for x in zip(list1, list2)]\n",
        "\n",
        "def vis(img_id_list):\n",
        "  vis=[0]*nr_class\n",
        "  for i in img_id_list:\n",
        "    X = open('./TACO/labels/'+str(i)+'.txt','r')\n",
        "    lines = X.readlines()\n",
        "    classes = [int(line.split()[0]) for line in lines]\n",
        "    x_ = pd.DataFrame([Counter(classes)],columns=[*range(nr_class)]).fillna(0).astype(int).iloc[[0]].squeeze().tolist()\n",
        "    vis=list_add(vis,x_)\n",
        "  return vis\n",
        "\n",
        "from matplotlib.pyplot import figure\n",
        "figure(figsize=(12, 8), dpi=80)\n",
        "\n",
        "plt.bar([*range(nr_class)],vis(train_ids), width = 1, label = 'Train')\n",
        "plt.bar([*range(nr_class)],vis(val_ids), width = 1, label = 'Val',alpha = 0.5)\n",
        "plt.bar([*range(nr_class)],vis(test_ids), width = 1, label = 'Test',alpha = 0.5)\n",
        "\n",
        "plt.xticks([0,1,2,3,4],['metal','plastic','glass','paper','other'],rotation = 75)\n",
        "plt.xlabel(\"Class_id\")\n",
        "plt.ylabel(\"Number of occurrence\")\n",
        "plt.title(\"Class distribution in Train/Val/Test sets\")\n",
        "plt.legend()\n",
        "plt.show()"
      ]
    },
    {
      "cell_type": "code",
      "execution_count": null,
      "metadata": {
        "id": "kwCWClsrSD4z"
      },
      "outputs": [],
      "source": [
        "#%%capture\n",
        "\n",
        "def move_helper(ids, desti):\n",
        "  for id in ids:\n",
        "    img_name = os.path.join( './TACO/images', str(id)+'.jpg' )\n",
        "    lbl_name = os.path.join( './TACO/labels', str(id)+'.txt' )\n",
        "    #print(img_name)\n",
        "    if os.path.isfile(img_name):\n",
        "        shutil.copy( img_name, './TACO/images/'+desti)\n",
        "        shutil.copy( lbl_name, './TACO/labels/'+desti)\n",
        "    else :\n",
        "        print('file does not exist', img_name)\n",
        "\n",
        "!mkdir TACO/images/{train,val,test}\n",
        "!mkdir TACO/labels/{train,val,test}\n",
        "\n",
        "move_helper(test_ids,'test')\n",
        "move_helper(train_ids,'train')\n",
        "move_helper(val_ids,'val')\n"
      ]
    },
    {
      "cell_type": "code",
      "execution_count": null,
      "metadata": {
        "id": "evH7jgs5Dnj7"
      },
      "outputs": [],
      "source": [
        "with open('/content/yolov5/data/TACO.yaml', mode='w') as fp:\n",
        "  lines = '''path: ../TACO  # dataset root dir\n",
        "train: images/train  # train images \n",
        "val: images/val  # val images \n",
        "test: images/test # test images (optional)\n",
        "\n",
        "# Classes\n",
        "names:\n",
        "  0: metal\n",
        "  1: plastic\n",
        "  2: glass\n",
        "  3: paper\n",
        "  4: other\n",
        "'''\n",
        "  fp.writelines(lines)"
      ]
    },
    {
      "cell_type": "markdown",
      "metadata": {
        "id": "C37qgWyEMLpj"
      },
      "source": [
        "# 1. Evaluate with best trained weights so far\n",
        "\n",
        "Trained for 200 epochs on YoloV5X verision 6 with image size of 1280\n",
        "\n",
        "TTA employed during detection."
      ]
    },
    {
      "cell_type": "code",
      "source": [
        "# Detect with test time augment\n",
        "%rm -rf /content/yolov5/runs/detect/*\n",
        "\n",
        "!python /content/yolov5/detect.py \\\n",
        "--conf-thres 0.4 \\\n",
        "--weights /content/weights.pt \\\n",
        "--source /content/TACO/images/test \\\n",
        "--imgsz 1280 \\\n",
        "--augment \\\n",
        "--save-txt"
      ],
      "metadata": {
        "colab": {
          "base_uri": "https://localhost:8080/"
        },
        "id": "Wuo739tJJybt",
        "outputId": "2e8504cc-788b-47ea-f967-638fcb027a54"
      },
      "execution_count": null,
      "outputs": [
        {
          "output_type": "stream",
          "name": "stdout",
          "text": [
            "\u001b[34m\u001b[1mdetect: \u001b[0mweights=['/content/weights.pt'], source=/content/TACO/images/test, data=yolov5/data/coco128.yaml, imgsz=[1280, 1280], conf_thres=0.4, iou_thres=0.45, max_det=1000, device=, view_img=False, save_txt=True, save_conf=False, save_crop=False, nosave=False, classes=None, agnostic_nms=False, augment=True, visualize=False, update=False, project=yolov5/runs/detect, name=exp, exist_ok=False, line_thickness=3, hide_labels=False, hide_conf=False, half=False, dnn=False, vid_stride=1\n",
            "YOLOv5 🚀 v7.0-116-g5c91dae Python-3.8.10 torch-1.13.1+cu116 CUDA:0 (NVIDIA A100-SXM4-40GB, 40514MiB)\n",
            "\n",
            "Fusing layers... \n",
            "Model summary: 416 layers, 140009320 parameters, 0 gradients, 208.0 GFLOPs\n",
            "image 1/201 /content/TACO/images/test/1001.jpg: 960x1280 1 plastic, 113.1ms\n",
            "image 2/201 /content/TACO/images/test/1005.jpg: 960x1280 3 plastics, 83.9ms\n",
            "image 3/201 /content/TACO/images/test/1014.jpg: 1280x960 (no detections), 112.2ms\n",
            "image 4/201 /content/TACO/images/test/1026.jpg: 1280x960 4 plastics, 1 paper, 84.6ms\n",
            "image 5/201 /content/TACO/images/test/1031.jpg: 1280x960 1 plastic, 1 paper, 84.7ms\n",
            "image 6/201 /content/TACO/images/test/1033.jpg: 1280x960 1 metal, 1 plastic, 86.4ms\n",
            "image 7/201 /content/TACO/images/test/1034.jpg: 1280x960 1 metal, 87.0ms\n",
            "image 8/201 /content/TACO/images/test/104.jpg: 640x1280 7 plastics, 1 other, 110.6ms\n",
            "image 9/201 /content/TACO/images/test/1042.jpg: 1280x960 1 plastic, 89.9ms\n",
            "image 10/201 /content/TACO/images/test/1043.jpg: 1280x960 1 paper, 87.4ms\n",
            "image 11/201 /content/TACO/images/test/105.jpg: 1280x640 3 plastics, 110.2ms\n",
            "image 12/201 /content/TACO/images/test/1098.jpg: 960x1280 (no detections), 82.4ms\n",
            "image 13/201 /content/TACO/images/test/1116.jpg: 960x1280 1 plastic, 83.8ms\n",
            "image 14/201 /content/TACO/images/test/1129.jpg: 1280x960 4 plastics, 1 paper, 82.9ms\n",
            "image 15/201 /content/TACO/images/test/1134.jpg: 960x1280 2 plastics, 1 paper, 82.3ms\n",
            "image 16/201 /content/TACO/images/test/1138.jpg: 960x1280 3 metals, 82.5ms\n",
            "image 17/201 /content/TACO/images/test/1141.jpg: 960x1280 1 metal, 2 plastics, 82.4ms\n",
            "image 18/201 /content/TACO/images/test/1144.jpg: 960x1280 1 plastic, 83.9ms\n",
            "image 19/201 /content/TACO/images/test/1147.jpg: 960x1280 5 plastics, 2 others, 84.3ms\n",
            "image 20/201 /content/TACO/images/test/1151.jpg: 960x1280 2 papers, 83.7ms\n",
            "image 21/201 /content/TACO/images/test/116.jpg: 1280x640 1 plastic, 82.7ms\n",
            "image 22/201 /content/TACO/images/test/1160.jpg: 1024x1280 2 metals, 3 plastics, 1 glass, 1 paper, 100.7ms\n",
            "image 23/201 /content/TACO/images/test/1162.jpg: 1280x960 1 metal, 2 plastics, 1 paper, 84.5ms\n",
            "image 24/201 /content/TACO/images/test/1163.jpg: 1280x960 1 plastic, 84.4ms\n",
            "image 25/201 /content/TACO/images/test/1172.jpg: 1280x960 3 papers, 86.7ms\n",
            "image 26/201 /content/TACO/images/test/1173.jpg: 896x1280 2 plastics, 109.4ms\n",
            "image 27/201 /content/TACO/images/test/1176.jpg: 896x1280 (no detections), 84.3ms\n",
            "image 28/201 /content/TACO/images/test/1215.jpg: 1280x960 1 plastic, 82.8ms\n",
            "image 29/201 /content/TACO/images/test/1219.jpg: 1280x960 (no detections), 83.0ms\n",
            "image 30/201 /content/TACO/images/test/1231.jpg: 1280x960 1 plastic, 84.0ms\n",
            "image 31/201 /content/TACO/images/test/1233.jpg: 960x1280 4 plastics, 1 other, 83.8ms\n",
            "image 32/201 /content/TACO/images/test/1234.jpg: 1280x960 1 plastic, 2 others, 83.3ms\n",
            "image 33/201 /content/TACO/images/test/1242.jpg: 1280x960 1 plastic, 83.6ms\n",
            "image 34/201 /content/TACO/images/test/1243.jpg: 960x1280 2 plastics, 86.8ms\n",
            "image 35/201 /content/TACO/images/test/1252.jpg: 960x1280 1 plastic, 84.0ms\n",
            "image 36/201 /content/TACO/images/test/127.jpg: 640x1280 1 metal, 2 plastics, 2 papers, 83.7ms\n",
            "image 37/201 /content/TACO/images/test/1272.jpg: 960x1280 1 plastic, 81.8ms\n",
            "image 38/201 /content/TACO/images/test/1288.jpg: 1280x960 1 metal, 2 plastics, 1 paper, 82.8ms\n",
            "image 39/201 /content/TACO/images/test/1292.jpg: 960x1280 1 metal, 81.9ms\n",
            "image 40/201 /content/TACO/images/test/1300.jpg: 960x1280 1 metal, 1 paper, 82.3ms\n",
            "image 41/201 /content/TACO/images/test/1303.jpg: 960x1280 1 plastic, 1 paper, 81.8ms\n",
            "image 42/201 /content/TACO/images/test/1323.jpg: 960x1280 3 plastics, 1 paper, 84.5ms\n",
            "image 43/201 /content/TACO/images/test/1324.jpg: 1280x960 1 plastic, 86.0ms\n",
            "image 44/201 /content/TACO/images/test/1328.jpg: 1280x960 2 metals, 3 plastics, 2 papers, 3 others, 84.9ms\n",
            "image 45/201 /content/TACO/images/test/1331.jpg: 1280x960 2 plastics, 1 paper, 1 other, 84.9ms\n",
            "image 46/201 /content/TACO/images/test/1334.jpg: 1280x960 2 plastics, 4 others, 86.1ms\n",
            "image 47/201 /content/TACO/images/test/134.jpg: 1280x640 1 plastic, 1 other, 86.5ms\n",
            "image 48/201 /content/TACO/images/test/1342.jpg: 960x1280 1 plastic, 1 paper, 85.5ms\n",
            "image 49/201 /content/TACO/images/test/1346.jpg: 960x1280 1 plastic, 1 paper, 90.4ms\n",
            "image 50/201 /content/TACO/images/test/135.jpg: 1280x640 1 plastic, 3 papers, 2 others, 84.8ms\n",
            "image 51/201 /content/TACO/images/test/1352.jpg: 960x1280 2 plastics, 83.6ms\n",
            "image 52/201 /content/TACO/images/test/1357.jpg: 1280x960 1 plastic, 1 paper, 83.1ms\n",
            "image 53/201 /content/TACO/images/test/1365.jpg: 1280x960 1 metal, 1 plastic, 1 other, 83.9ms\n",
            "image 54/201 /content/TACO/images/test/1374.jpg: 1280x768 3 metals, 1 glass, 107.7ms\n",
            "image 55/201 /content/TACO/images/test/1377.jpg: 1280x768 1 plastic, 82.5ms\n",
            "image 56/201 /content/TACO/images/test/1383.jpg: 1280x768 2 metals, 1 plastic, 81.2ms\n",
            "image 57/201 /content/TACO/images/test/1385.jpg: 1280x768 2 plastics, 83.6ms\n",
            "image 58/201 /content/TACO/images/test/1396.jpg: 1280x768 (no detections), 84.3ms\n",
            "image 59/201 /content/TACO/images/test/1397.jpg: 1280x768 2 metals, 83.8ms\n",
            "image 60/201 /content/TACO/images/test/1411.jpg: 960x1280 1 plastic, 83.2ms\n",
            "image 61/201 /content/TACO/images/test/1428.jpg: 1280x960 (no detections), 83.6ms\n",
            "image 62/201 /content/TACO/images/test/1429.jpg: 1280x960 2 plastics, 84.8ms\n",
            "image 63/201 /content/TACO/images/test/1439.jpg: 1280x960 (no detections), 90.1ms\n",
            "image 64/201 /content/TACO/images/test/1442.jpg: 1280x960 1 plastic, 84.4ms\n",
            "image 65/201 /content/TACO/images/test/1451.jpg: 960x1280 1 plastic, 1 glass, 83.0ms\n",
            "image 66/201 /content/TACO/images/test/1453.jpg: 960x1280 1 plastic, 2 papers, 83.6ms\n",
            "image 67/201 /content/TACO/images/test/1458.jpg: 1280x960 4 plastics, 85.4ms\n",
            "image 68/201 /content/TACO/images/test/1475.jpg: 1280x640 1 metal, 1 plastic, 1 glass, 1 other, 84.5ms\n",
            "image 69/201 /content/TACO/images/test/1481.jpg: 1280x640 1 metal, 1 plastic, 1 paper, 84.5ms\n",
            "image 70/201 /content/TACO/images/test/1488.jpg: 1280x640 1 plastic, 89.4ms\n",
            "image 71/201 /content/TACO/images/test/1494.jpg: 640x1280 2 plastics, 84.4ms\n",
            "image 72/201 /content/TACO/images/test/1496.jpg: 1280x640 2 plastics, 83.7ms\n",
            "image 73/201 /content/TACO/images/test/16.jpg: 1280x960 1 metal, 1 paper, 84.5ms\n",
            "image 74/201 /content/TACO/images/test/166.jpg: 1280x640 1 plastic, 83.1ms\n",
            "image 75/201 /content/TACO/images/test/169.jpg: 1280x640 3 plastics, 1 paper, 1 other, 82.9ms\n",
            "image 76/201 /content/TACO/images/test/176.jpg: 1280x640 1 paper, 1 other, 84.6ms\n",
            "image 77/201 /content/TACO/images/test/179.jpg: 1280x640 1 plastic, 82.8ms\n",
            "image 78/201 /content/TACO/images/test/180.jpg: 640x1280 2 plastics, 83.1ms\n",
            "image 79/201 /content/TACO/images/test/183.jpg: 640x1280 1 other, 83.2ms\n",
            "image 80/201 /content/TACO/images/test/184.jpg: 1280x640 (no detections), 83.1ms\n",
            "image 81/201 /content/TACO/images/test/19.jpg: 1280x960 2 metals, 84.5ms\n",
            "image 82/201 /content/TACO/images/test/211.jpg: 1280x640 2 papers, 83.2ms\n",
            "image 83/201 /content/TACO/images/test/22.jpg: 1280x960 2 metals, 84.6ms\n",
            "image 84/201 /content/TACO/images/test/252.jpg: 960x1280 1 plastic, 86.7ms\n",
            "image 85/201 /content/TACO/images/test/27.jpg: 1280x960 4 metals, 84.5ms\n",
            "image 86/201 /content/TACO/images/test/273.jpg: 1280x960 1 metal, 1 plastic, 86.8ms\n",
            "image 87/201 /content/TACO/images/test/276.jpg: 1280x960 3 plastics, 84.5ms\n",
            "image 88/201 /content/TACO/images/test/277.jpg: 1280x960 1 plastic, 84.2ms\n",
            "image 89/201 /content/TACO/images/test/285.jpg: 1280x960 1 plastic, 84.3ms\n",
            "image 90/201 /content/TACO/images/test/29.jpg: 1280x960 1 metal, 1 plastic, 86.4ms\n",
            "image 91/201 /content/TACO/images/test/291.jpg: 960x1280 4 plastics, 1 other, 83.2ms\n",
            "image 92/201 /content/TACO/images/test/343.jpg: 1280x768 1 plastic, 83.7ms\n",
            "image 93/201 /content/TACO/images/test/344.jpg: 960x1280 2 metals, 1 plastic, 83.9ms\n",
            "image 94/201 /content/TACO/images/test/349.jpg: 1280x960 1 paper, 84.6ms\n",
            "image 95/201 /content/TACO/images/test/352.jpg: 960x1280 (no detections), 83.8ms\n",
            "image 96/201 /content/TACO/images/test/357.jpg: 960x1280 1 plastic, 85.9ms\n",
            "image 97/201 /content/TACO/images/test/365.jpg: 1280x768 1 plastic, 81.7ms\n",
            "image 98/201 /content/TACO/images/test/37.jpg: 1280x960 1 plastic, 1 glass, 94.8ms\n",
            "image 99/201 /content/TACO/images/test/372.jpg: 1280x960 1 plastic, 85.1ms\n",
            "image 100/201 /content/TACO/images/test/383.jpg: 1280x960 2 plastics, 84.9ms\n",
            "image 101/201 /content/TACO/images/test/387.jpg: 1280x960 3 plastics, 82.9ms\n",
            "image 102/201 /content/TACO/images/test/396.jpg: 1280x768 1 plastic, 84.9ms\n",
            "image 103/201 /content/TACO/images/test/400.jpg: 960x1280 2 plastics, 86.0ms\n",
            "image 104/201 /content/TACO/images/test/406.jpg: 1280x960 3 plastics, 1 paper, 84.8ms\n",
            "image 105/201 /content/TACO/images/test/410.jpg: 960x1280 4 plastics, 3 papers, 84.9ms\n",
            "image 106/201 /content/TACO/images/test/411.jpg: 960x1280 2 plastics, 82.0ms\n",
            "image 107/201 /content/TACO/images/test/417.jpg: 1280x960 2 plastics, 85.8ms\n",
            "image 108/201 /content/TACO/images/test/420.jpg: 1280x960 4 plastics, 1 other, 83.2ms\n",
            "image 109/201 /content/TACO/images/test/423.jpg: 960x1280 5 plastics, 90.9ms\n",
            "image 110/201 /content/TACO/images/test/436.jpg: 960x1280 1 metal, 2 plastics, 82.8ms\n",
            "image 111/201 /content/TACO/images/test/440.jpg: 1280x960 1 plastic, 84.5ms\n",
            "image 112/201 /content/TACO/images/test/448.jpg: 960x1280 2 plastics, 90.8ms\n",
            "image 113/201 /content/TACO/images/test/452.jpg: 960x1280 1 plastic, 1 paper, 84.5ms\n",
            "image 114/201 /content/TACO/images/test/454.jpg: 960x1280 1 plastic, 1 paper, 1 other, 85.7ms\n",
            "image 115/201 /content/TACO/images/test/457.jpg: 1280x960 3 plastics, 1 paper, 89.3ms\n",
            "image 116/201 /content/TACO/images/test/46.jpg: 960x1280 5 metals, 87.5ms\n",
            "image 117/201 /content/TACO/images/test/462.jpg: 1280x960 1 plastic, 86.4ms\n",
            "image 118/201 /content/TACO/images/test/474.jpg: 960x1280 1 metal, 84.1ms\n",
            "image 119/201 /content/TACO/images/test/475.jpg: 960x1280 1 plastic, 83.5ms\n",
            "image 120/201 /content/TACO/images/test/484.jpg: 960x1280 2 plastics, 85.2ms\n",
            "image 121/201 /content/TACO/images/test/49.jpg: 1280x960 1 plastic, 84.9ms\n",
            "image 122/201 /content/TACO/images/test/490.jpg: 1280x960 1 other, 84.8ms\n",
            "image 123/201 /content/TACO/images/test/497.jpg: 960x1280 1 plastic, 84.5ms\n",
            "image 124/201 /content/TACO/images/test/500.jpg: 960x1280 1 plastic, 1 paper, 83.8ms\n",
            "image 125/201 /content/TACO/images/test/505.jpg: 960x1280 2 plastics, 1 paper, 86.1ms\n",
            "image 126/201 /content/TACO/images/test/520.jpg: 1280x960 1 plastic, 88.3ms\n",
            "image 127/201 /content/TACO/images/test/521.jpg: 960x1280 1 paper, 87.1ms\n",
            "image 128/201 /content/TACO/images/test/523.jpg: 1280x1280 1 metal, 3 plastics, 1 paper, 104.8ms\n",
            "image 129/201 /content/TACO/images/test/537.jpg: 1280x960 2 metals, 87.5ms\n",
            "image 130/201 /content/TACO/images/test/552.jpg: 960x1280 1 plastic, 83.6ms\n",
            "image 131/201 /content/TACO/images/test/555.jpg: 960x1280 2 plastics, 82.3ms\n",
            "image 132/201 /content/TACO/images/test/565.jpg: 1280x960 1 plastic, 1 paper, 92.1ms\n",
            "image 133/201 /content/TACO/images/test/566.jpg: 1280x960 1 plastic, 85.2ms\n",
            "image 134/201 /content/TACO/images/test/570.jpg: 1280x960 3 metals, 87.2ms\n",
            "image 135/201 /content/TACO/images/test/578.jpg: 1280x960 1 plastic, 84.0ms\n",
            "image 136/201 /content/TACO/images/test/596.jpg: 1280x960 1 plastic, 1 paper, 85.7ms\n",
            "image 137/201 /content/TACO/images/test/600.jpg: 1280x960 1 plastic, 82.3ms\n",
            "image 138/201 /content/TACO/images/test/601.jpg: 1280x960 5 metals, 1 plastic, 1 paper, 82.5ms\n",
            "image 139/201 /content/TACO/images/test/610.jpg: 1280x960 1 paper, 2 others, 87.5ms\n",
            "image 140/201 /content/TACO/images/test/612.jpg: 1280x960 1 plastic, 83.2ms\n",
            "image 141/201 /content/TACO/images/test/625.jpg: 1280x960 1 plastic, 86.1ms\n",
            "image 142/201 /content/TACO/images/test/635.jpg: 1280x960 1 metal, 1 plastic, 85.1ms\n",
            "image 143/201 /content/TACO/images/test/639.jpg: 1280x960 1 plastic, 87.9ms\n",
            "image 144/201 /content/TACO/images/test/644.jpg: 1280x960 2 plastics, 88.0ms\n",
            "image 145/201 /content/TACO/images/test/646.jpg: 1280x960 1 plastic, 84.6ms\n",
            "image 146/201 /content/TACO/images/test/647.jpg: 960x1280 1 plastic, 84.5ms\n",
            "image 147/201 /content/TACO/images/test/667.jpg: 960x1280 1 plastic, 83.7ms\n",
            "image 148/201 /content/TACO/images/test/681.jpg: 1280x960 1 plastic, 84.9ms\n",
            "image 149/201 /content/TACO/images/test/683.jpg: 1280x960 1 paper, 85.5ms\n",
            "image 150/201 /content/TACO/images/test/685.jpg: 960x1280 2 glasss, 87.0ms\n",
            "image 151/201 /content/TACO/images/test/688.jpg: 960x1280 1 plastic, 1 paper, 83.3ms\n",
            "image 152/201 /content/TACO/images/test/692.jpg: 1280x960 1 plastic, 1 paper, 84.3ms\n",
            "image 153/201 /content/TACO/images/test/708.jpg: 960x1280 2 metals, 2 plastics, 3 papers, 84.2ms\n",
            "image 154/201 /content/TACO/images/test/713.jpg: 1280x960 1 metal, 1 plastic, 1 paper, 87.2ms\n",
            "image 155/201 /content/TACO/images/test/72.jpg: 1280x960 1 plastic, 83.2ms\n",
            "image 156/201 /content/TACO/images/test/724.jpg: 1280x960 1 plastic, 89.5ms\n",
            "image 157/201 /content/TACO/images/test/731.jpg: 1280x960 1 plastic, 89.1ms\n",
            "image 158/201 /content/TACO/images/test/735.jpg: 1280x960 1 paper, 1 other, 88.9ms\n",
            "image 159/201 /content/TACO/images/test/737.jpg: 1280x960 1 plastic, 1 paper, 1 other, 86.1ms\n",
            "image 160/201 /content/TACO/images/test/743.jpg: 1280x960 1 plastic, 86.9ms\n",
            "image 161/201 /content/TACO/images/test/75.jpg: 1280x960 3 metals, 5 plastics, 2 papers, 1 other, 88.5ms\n",
            "image 162/201 /content/TACO/images/test/752.jpg: 960x1280 1 metal, 2 others, 86.1ms\n",
            "image 163/201 /content/TACO/images/test/756.jpg: 1280x960 1 metal, 85.2ms\n",
            "image 164/201 /content/TACO/images/test/761.jpg: 1280x960 2 plastics, 1 paper, 84.7ms\n",
            "image 165/201 /content/TACO/images/test/766.jpg: 960x1280 (no detections), 83.0ms\n",
            "image 166/201 /content/TACO/images/test/768.jpg: 960x1280 1 plastic, 82.9ms\n",
            "image 167/201 /content/TACO/images/test/771.jpg: 960x1280 1 plastic, 83.5ms\n",
            "image 168/201 /content/TACO/images/test/777.jpg: 960x1280 2 others, 84.1ms\n",
            "image 169/201 /content/TACO/images/test/787.jpg: 1280x960 1 paper, 82.9ms\n",
            "image 170/201 /content/TACO/images/test/788.jpg: 1280x960 2 plastics, 3 others, 84.0ms\n",
            "image 171/201 /content/TACO/images/test/798.jpg: 1280x960 1 plastic, 84.5ms\n",
            "image 172/201 /content/TACO/images/test/802.jpg: 1280x960 1 paper, 84.8ms\n",
            "image 173/201 /content/TACO/images/test/809.jpg: 1280x960 1 metal, 1 plastic, 1 paper, 1 other, 85.8ms\n",
            "image 174/201 /content/TACO/images/test/824.jpg: 960x1280 1 plastic, 1 paper, 84.3ms\n",
            "image 175/201 /content/TACO/images/test/829.jpg: 1280x960 1 plastic, 86.6ms\n",
            "image 176/201 /content/TACO/images/test/834.jpg: 1280x960 1 metal, 2 plastics, 2 papers, 84.3ms\n",
            "image 177/201 /content/TACO/images/test/837.jpg: 1280x960 1 plastic, 1 paper, 83.8ms\n",
            "image 178/201 /content/TACO/images/test/839.jpg: 1280x960 3 metals, 1 plastic, 1 glass, 1 paper, 83.6ms\n",
            "image 179/201 /content/TACO/images/test/843.jpg: 1280x960 1 paper, 85.8ms\n",
            "image 180/201 /content/TACO/images/test/858.jpg: 960x1280 1 plastic, 84.3ms\n",
            "image 181/201 /content/TACO/images/test/866.jpg: 1280x1280 4 plastics, 1 glass, 84.0ms\n",
            "image 182/201 /content/TACO/images/test/870.jpg: 960x1280 1 plastic, 1 paper, 84.8ms\n",
            "image 183/201 /content/TACO/images/test/875.jpg: 1280x960 1 metal, 2 plastics, 83.7ms\n",
            "image 184/201 /content/TACO/images/test/877.jpg: 960x1280 3 plastics, 83.0ms\n",
            "image 185/201 /content/TACO/images/test/886.jpg: 1280x960 1 plastic, 83.2ms\n",
            "image 186/201 /content/TACO/images/test/889.jpg: 1280x960 1 plastic, 83.0ms\n",
            "image 187/201 /content/TACO/images/test/90.jpg: 1280x960 1 plastic, 83.5ms\n",
            "image 188/201 /content/TACO/images/test/91.jpg: 1280x960 1 metal, 85.1ms\n",
            "image 189/201 /content/TACO/images/test/917.jpg: 1280x960 1 plastic, 2 others, 83.8ms\n",
            "image 190/201 /content/TACO/images/test/931.jpg: 1280x960 1 plastic, 82.9ms\n",
            "image 191/201 /content/TACO/images/test/934.jpg: 960x1280 1 plastic, 1 other, 83.5ms\n",
            "image 192/201 /content/TACO/images/test/938.jpg: 960x1280 1 metal, 1 plastic, 82.5ms\n",
            "image 193/201 /content/TACO/images/test/944.jpg: 960x1280 2 plastics, 86.5ms\n",
            "image 194/201 /content/TACO/images/test/948.jpg: 960x1280 1 plastic, 1 paper, 87.3ms\n",
            "image 195/201 /content/TACO/images/test/95.jpg: 1280x960 1 metal, 89.1ms\n",
            "image 196/201 /content/TACO/images/test/954.jpg: 1280x960 2 plastics, 1 glass, 1 paper, 88.6ms\n",
            "image 197/201 /content/TACO/images/test/956.jpg: 1280x960 (no detections), 87.8ms\n",
            "image 198/201 /content/TACO/images/test/979.jpg: 1280x960 1 plastic, 87.5ms\n",
            "image 199/201 /content/TACO/images/test/98.jpg: 1280x960 3 metals, 5 plastics, 2 papers, 87.5ms\n",
            "image 200/201 /content/TACO/images/test/981.jpg: 960x1280 1 metal, 1 plastic, 85.0ms\n",
            "image 201/201 /content/TACO/images/test/990.jpg: 1280x960 (no detections), 85.8ms\n",
            "Speed: 1.2ms pre-process, 85.8ms inference, 1.0ms NMS per image at shape (1, 3, 1280, 1280)\n",
            "Results saved to \u001b[1myolov5/runs/detect/exp\u001b[0m\n",
            "189 labels saved to yolov5/runs/detect/exp/labels\n"
          ]
        }
      ]
    },
    {
      "cell_type": "code",
      "execution_count": null,
      "metadata": {
        "id": "30QWyk7yiMsk"
      },
      "outputs": [],
      "source": [
        "def pred_getter(img_id):\n",
        "  img = base_imgs[img_id]\n",
        "  img_height = img['height']\n",
        "  img_width = img['width']\n",
        "  \n",
        "  pred_path = '/content/yolov5/runs/detect/exp/labels/'\n",
        "  \n",
        "  cache = pd.read_csv(pred_path+str(img_id)+'.txt',header=None,\n",
        "                      names = ['class','xcenter','ycenter','width','height'],delimiter=' ')\n",
        "  \n",
        "  cache[\"xcenter\"] = img_width * cache[\"xcenter\"]\n",
        "  cache[\"ycenter\"] = img_height * cache[\"ycenter\"]\n",
        "  cache[\"width\"] = img_width * cache[\"width\"]\n",
        "  cache[\"height\"] = img_height * cache[\"height\"]\n",
        "  cache = cache.assign(confidence = ['n/a']*cache.shape[0])\n",
        "  #cache = cache.assign(class_name = [number_superid[i] for i in cache['class'].tolist()])\n",
        "  cache = cache.reindex(columns=['xcenter','ycenter','width','height','confidence','class','class_name'])\n",
        "  cache = cache.assign(image_id = [img_id]*cache.shape[0])\n",
        "  return cache\n",
        "\n",
        "def truth_getter(img_id):\n",
        "\n",
        "  img = base_imgs[img_id]\n",
        "  img_height = img['height']\n",
        "  img_width = img['width']\n",
        "\n",
        "  cache = pd.read_csv('./TACO/labels/'+str(img_id)+'.txt',header=None,\n",
        "                      names = ['class','xcenter','ycenter','width','height'],delimiter=' ')\n",
        "  cache[\"xcenter\"] = img_width * cache[\"xcenter\"]\n",
        "  cache[\"ycenter\"] = img_height * cache[\"ycenter\"]\n",
        "  cache[\"width\"] = img_width * cache[\"width\"]\n",
        "  cache[\"height\"] = img_height * cache[\"height\"]\n",
        "\n",
        "  cache = cache.assign(confidence = [1]*cache.shape[0])\n",
        "  #cache = cache.assign(class_name = [number_superid[i] for i in cache['class'].tolist()])\n",
        "  cache = cache.reindex(columns=['xcenter','ycenter','width','height','confidence','class','class_name'])\n",
        "  cache = cache.assign(imaHi, just curious,  data augmentation utilities in TensorFlow? Ultralytics' implementation of YOLO is based on PyTorch.e_id = [img_id]*cache.shape[0])\n",
        "  # cache = cache.assign(img_width = [width]*cache.shape[0])\n",
        "  # cache = cache.assign(img_height = [height]*cache.shape[0])\n",
        "\n",
        "  return cache\n"
      ]
    },
    {
      "cell_type": "code",
      "source": [],
      "metadata": {
        "id": "FhvEOrGWO6mJ"
      },
      "execution_count": null,
      "outputs": []
    },
    {
      "cell_type": "code",
      "source": [
        "pred_pd = []\n",
        "for i in test_ids:\n",
        "  try: pred_pd.append(pred_getter(i))\n",
        "  except: pred_pd.append(pd.DataFrame(columns=['xcenter','ycenter','width','height','confidence','class','class_name'] ))\n",
        "\n",
        "truth_pd=[]\n",
        "for i in test_ids:\n",
        "  truth_pd.append(truth_getter(i))"
      ],
      "metadata": {
        "id": "QTYb1VmzO4Rk"
      },
      "execution_count": null,
      "outputs": []
    },
    {
      "cell_type": "markdown",
      "metadata": {
        "id": "QNrQCtxcBiw0"
      },
      "source": [
        "## 1.2 example prediction and truth"
      ]
    },
    {
      "cell_type": "code",
      "source": [],
      "metadata": {
        "id": "sWKwaUkTIiXn"
      },
      "execution_count": null,
      "outputs": []
    },
    {
      "cell_type": "code",
      "execution_count": null,
      "metadata": {
        "colab": {
          "base_uri": "https://localhost:8080/"
        },
        "id": "WuvboCQRLUvU",
        "outputId": "c556f960-2395-4af8-905f-b52658275b98"
      },
      "outputs": [
        {
          "output_type": "execute_result",
          "data": {
            "text/plain": [
              "[       xcenter      ycenter       width       height confidence  class  \\\n",
              " 0   946.999495  1123.499484  398.000002  1159.000458        n/a      0   \n",
              " 1  1371.500451  1287.999351  328.999461   596.000826        n/a      3   \n",
              " \n",
              "    class_name  image_id  \n",
              " 0         NaN        16  \n",
              " 1         NaN        16  ,\n",
              "       xcenter      ycenter       width      height confidence  class  \\\n",
              " 0   86.000068  2001.000126  169.999885   95.999953        n/a      0   \n",
              " 1  726.000413   990.500943  448.000149  361.001016        n/a      0   \n",
              " \n",
              "    class_name  image_id  \n",
              " 0         NaN        19  \n",
              " 1         NaN        19  ]"
            ]
          },
          "metadata": {},
          "execution_count": 35
        }
      ],
      "source": [
        "pred_pd[:2] \n",
        "# predictions for first two images\n",
        "# there will be a list of two dataframes"
      ]
    },
    {
      "cell_type": "code",
      "execution_count": null,
      "metadata": {
        "colab": {
          "base_uri": "https://localhost:8080/",
          "height": 112
        },
        "id": "qwJA0H4QrHYC",
        "outputId": "08adfed3-08d6-4736-fd2b-ff7b565cbb03"
      },
      "outputs": [
        {
          "output_type": "execute_result",
          "data": {
            "text/plain": [
              "      xcenter     ycenter       width      height  confidence  class  \\\n",
              "0  725.499351  986.499246  444.999925  356.999319           1      0   \n",
              "1  548.999493  983.499510   77.999676   61.000779           1      0   \n",
              "\n",
              "   class_name  image_id  \n",
              "0         NaN        19  \n",
              "1         NaN        19  "
            ],
            "text/html": [
              "\n",
              "  <div id=\"df-a040cf2c-26b9-4d0a-90a5-a9148d335314\">\n",
              "    <div class=\"colab-df-container\">\n",
              "      <div>\n",
              "<style scoped>\n",
              "    .dataframe tbody tr th:only-of-type {\n",
              "        vertical-align: middle;\n",
              "    }\n",
              "\n",
              "    .dataframe tbody tr th {\n",
              "        vertical-align: top;\n",
              "    }\n",
              "\n",
              "    .dataframe thead th {\n",
              "        text-align: right;\n",
              "    }\n",
              "</style>\n",
              "<table border=\"1\" class=\"dataframe\">\n",
              "  <thead>\n",
              "    <tr style=\"text-align: right;\">\n",
              "      <th></th>\n",
              "      <th>xcenter</th>\n",
              "      <th>ycenter</th>\n",
              "      <th>width</th>\n",
              "      <th>height</th>\n",
              "      <th>confidence</th>\n",
              "      <th>class</th>\n",
              "      <th>class_name</th>\n",
              "      <th>image_id</th>\n",
              "    </tr>\n",
              "  </thead>\n",
              "  <tbody>\n",
              "    <tr>\n",
              "      <th>0</th>\n",
              "      <td>725.499351</td>\n",
              "      <td>986.499246</td>\n",
              "      <td>444.999925</td>\n",
              "      <td>356.999319</td>\n",
              "      <td>1</td>\n",
              "      <td>0</td>\n",
              "      <td>NaN</td>\n",
              "      <td>19</td>\n",
              "    </tr>\n",
              "    <tr>\n",
              "      <th>1</th>\n",
              "      <td>548.999493</td>\n",
              "      <td>983.499510</td>\n",
              "      <td>77.999676</td>\n",
              "      <td>61.000779</td>\n",
              "      <td>1</td>\n",
              "      <td>0</td>\n",
              "      <td>NaN</td>\n",
              "      <td>19</td>\n",
              "    </tr>\n",
              "  </tbody>\n",
              "</table>\n",
              "</div>\n",
              "      <button class=\"colab-df-convert\" onclick=\"convertToInteractive('df-a040cf2c-26b9-4d0a-90a5-a9148d335314')\"\n",
              "              title=\"Convert this dataframe to an interactive table.\"\n",
              "              style=\"display:none;\">\n",
              "        \n",
              "  <svg xmlns=\"http://www.w3.org/2000/svg\" height=\"24px\"viewBox=\"0 0 24 24\"\n",
              "       width=\"24px\">\n",
              "    <path d=\"M0 0h24v24H0V0z\" fill=\"none\"/>\n",
              "    <path d=\"M18.56 5.44l.94 2.06.94-2.06 2.06-.94-2.06-.94-.94-2.06-.94 2.06-2.06.94zm-11 1L8.5 8.5l.94-2.06 2.06-.94-2.06-.94L8.5 2.5l-.94 2.06-2.06.94zm10 10l.94 2.06.94-2.06 2.06-.94-2.06-.94-.94-2.06-.94 2.06-2.06.94z\"/><path d=\"M17.41 7.96l-1.37-1.37c-.4-.4-.92-.59-1.43-.59-.52 0-1.04.2-1.43.59L10.3 9.45l-7.72 7.72c-.78.78-.78 2.05 0 2.83L4 21.41c.39.39.9.59 1.41.59.51 0 1.02-.2 1.41-.59l7.78-7.78 2.81-2.81c.8-.78.8-2.07 0-2.86zM5.41 20L4 18.59l7.72-7.72 1.47 1.35L5.41 20z\"/>\n",
              "  </svg>\n",
              "      </button>\n",
              "      \n",
              "  <style>\n",
              "    .colab-df-container {\n",
              "      display:flex;\n",
              "      flex-wrap:wrap;\n",
              "      gap: 12px;\n",
              "    }\n",
              "\n",
              "    .colab-df-convert {\n",
              "      background-color: #E8F0FE;\n",
              "      border: none;\n",
              "      border-radius: 50%;\n",
              "      cursor: pointer;\n",
              "      display: none;\n",
              "      fill: #1967D2;\n",
              "      height: 32px;\n",
              "      padding: 0 0 0 0;\n",
              "      width: 32px;\n",
              "    }\n",
              "\n",
              "    .colab-df-convert:hover {\n",
              "      background-color: #E2EBFA;\n",
              "      box-shadow: 0px 1px 2px rgba(60, 64, 67, 0.3), 0px 1px 3px 1px rgba(60, 64, 67, 0.15);\n",
              "      fill: #174EA6;\n",
              "    }\n",
              "\n",
              "    [theme=dark] .colab-df-convert {\n",
              "      background-color: #3B4455;\n",
              "      fill: #D2E3FC;\n",
              "    }\n",
              "\n",
              "    [theme=dark] .colab-df-convert:hover {\n",
              "      background-color: #434B5C;\n",
              "      box-shadow: 0px 1px 3px 1px rgba(0, 0, 0, 0.15);\n",
              "      filter: drop-shadow(0px 1px 2px rgba(0, 0, 0, 0.3));\n",
              "      fill: #FFFFFF;\n",
              "    }\n",
              "  </style>\n",
              "\n",
              "      <script>\n",
              "        const buttonEl =\n",
              "          document.querySelector('#df-a040cf2c-26b9-4d0a-90a5-a9148d335314 button.colab-df-convert');\n",
              "        buttonEl.style.display =\n",
              "          google.colab.kernel.accessAllowed ? 'block' : 'none';\n",
              "\n",
              "        async function convertToInteractive(key) {\n",
              "          const element = document.querySelector('#df-a040cf2c-26b9-4d0a-90a5-a9148d335314');\n",
              "          const dataTable =\n",
              "            await google.colab.kernel.invokeFunction('convertToInteractive',\n",
              "                                                     [key], {});\n",
              "          if (!dataTable) return;\n",
              "\n",
              "          const docLinkHtml = 'Like what you see? Visit the ' +\n",
              "            '<a target=\"_blank\" href=https://colab.research.google.com/notebooks/data_table.ipynb>data table notebook</a>'\n",
              "            + ' to learn more about interactive tables.';\n",
              "          element.innerHTML = '';\n",
              "          dataTable['output_type'] = 'display_data';\n",
              "          await google.colab.output.renderOutput(dataTable, element);\n",
              "          const docLink = document.createElement('div');\n",
              "          docLink.innerHTML = docLinkHtml;\n",
              "          element.appendChild(docLink);\n",
              "        }\n",
              "      </script>\n",
              "    </div>\n",
              "  </div>\n",
              "  "
            ]
          },
          "metadata": {},
          "execution_count": 36
        }
      ],
      "source": [
        "truth_pd[1]"
      ]
    },
    {
      "cell_type": "code",
      "execution_count": null,
      "metadata": {
        "colab": {
          "base_uri": "https://localhost:8080/",
          "height": 112
        },
        "id": "WFbRwGhdR0o5",
        "outputId": "76ab8aeb-5a65-4dcf-9d52-6240464be350"
      },
      "outputs": [
        {
          "output_type": "execute_result",
          "data": {
            "text/plain": [
              "      xcenter      ycenter       width      height confidence  class  \\\n",
              "0   86.000068  2001.000126  169.999885   95.999953        n/a      0   \n",
              "1  726.000413   990.500943  448.000149  361.001016        n/a      0   \n",
              "\n",
              "   class_name  image_id  \n",
              "0         NaN        19  \n",
              "1         NaN        19  "
            ],
            "text/html": [
              "\n",
              "  <div id=\"df-c8475aa0-8a92-45fb-ba8d-df16c14428d8\">\n",
              "    <div class=\"colab-df-container\">\n",
              "      <div>\n",
              "<style scoped>\n",
              "    .dataframe tbody tr th:only-of-type {\n",
              "        vertical-align: middle;\n",
              "    }\n",
              "\n",
              "    .dataframe tbody tr th {\n",
              "        vertical-align: top;\n",
              "    }\n",
              "\n",
              "    .dataframe thead th {\n",
              "        text-align: right;\n",
              "    }\n",
              "</style>\n",
              "<table border=\"1\" class=\"dataframe\">\n",
              "  <thead>\n",
              "    <tr style=\"text-align: right;\">\n",
              "      <th></th>\n",
              "      <th>xcenter</th>\n",
              "      <th>ycenter</th>\n",
              "      <th>width</th>\n",
              "      <th>height</th>\n",
              "      <th>confidence</th>\n",
              "      <th>class</th>\n",
              "      <th>class_name</th>\n",
              "      <th>image_id</th>\n",
              "    </tr>\n",
              "  </thead>\n",
              "  <tbody>\n",
              "    <tr>\n",
              "      <th>0</th>\n",
              "      <td>86.000068</td>\n",
              "      <td>2001.000126</td>\n",
              "      <td>169.999885</td>\n",
              "      <td>95.999953</td>\n",
              "      <td>n/a</td>\n",
              "      <td>0</td>\n",
              "      <td>NaN</td>\n",
              "      <td>19</td>\n",
              "    </tr>\n",
              "    <tr>\n",
              "      <th>1</th>\n",
              "      <td>726.000413</td>\n",
              "      <td>990.500943</td>\n",
              "      <td>448.000149</td>\n",
              "      <td>361.001016</td>\n",
              "      <td>n/a</td>\n",
              "      <td>0</td>\n",
              "      <td>NaN</td>\n",
              "      <td>19</td>\n",
              "    </tr>\n",
              "  </tbody>\n",
              "</table>\n",
              "</div>\n",
              "      <button class=\"colab-df-convert\" onclick=\"convertToInteractive('df-c8475aa0-8a92-45fb-ba8d-df16c14428d8')\"\n",
              "              title=\"Convert this dataframe to an interactive table.\"\n",
              "              style=\"display:none;\">\n",
              "        \n",
              "  <svg xmlns=\"http://www.w3.org/2000/svg\" height=\"24px\"viewBox=\"0 0 24 24\"\n",
              "       width=\"24px\">\n",
              "    <path d=\"M0 0h24v24H0V0z\" fill=\"none\"/>\n",
              "    <path d=\"M18.56 5.44l.94 2.06.94-2.06 2.06-.94-2.06-.94-.94-2.06-.94 2.06-2.06.94zm-11 1L8.5 8.5l.94-2.06 2.06-.94-2.06-.94L8.5 2.5l-.94 2.06-2.06.94zm10 10l.94 2.06.94-2.06 2.06-.94-2.06-.94-.94-2.06-.94 2.06-2.06.94z\"/><path d=\"M17.41 7.96l-1.37-1.37c-.4-.4-.92-.59-1.43-.59-.52 0-1.04.2-1.43.59L10.3 9.45l-7.72 7.72c-.78.78-.78 2.05 0 2.83L4 21.41c.39.39.9.59 1.41.59.51 0 1.02-.2 1.41-.59l7.78-7.78 2.81-2.81c.8-.78.8-2.07 0-2.86zM5.41 20L4 18.59l7.72-7.72 1.47 1.35L5.41 20z\"/>\n",
              "  </svg>\n",
              "      </button>\n",
              "      \n",
              "  <style>\n",
              "    .colab-df-container {\n",
              "      display:flex;\n",
              "      flex-wrap:wrap;\n",
              "      gap: 12px;\n",
              "    }\n",
              "\n",
              "    .colab-df-convert {\n",
              "      background-color: #E8F0FE;\n",
              "      border: none;\n",
              "      border-radius: 50%;\n",
              "      cursor: pointer;\n",
              "      display: none;\n",
              "      fill: #1967D2;\n",
              "      height: 32px;\n",
              "      padding: 0 0 0 0;\n",
              "      width: 32px;\n",
              "    }\n",
              "\n",
              "    .colab-df-convert:hover {\n",
              "      background-color: #E2EBFA;\n",
              "      box-shadow: 0px 1px 2px rgba(60, 64, 67, 0.3), 0px 1px 3px 1px rgba(60, 64, 67, 0.15);\n",
              "      fill: #174EA6;\n",
              "    }\n",
              "\n",
              "    [theme=dark] .colab-df-convert {\n",
              "      background-color: #3B4455;\n",
              "      fill: #D2E3FC;\n",
              "    }\n",
              "\n",
              "    [theme=dark] .colab-df-convert:hover {\n",
              "      background-color: #434B5C;\n",
              "      box-shadow: 0px 1px 3px 1px rgba(0, 0, 0, 0.15);\n",
              "      filter: drop-shadow(0px 1px 2px rgba(0, 0, 0, 0.3));\n",
              "      fill: #FFFFFF;\n",
              "    }\n",
              "  </style>\n",
              "\n",
              "      <script>\n",
              "        const buttonEl =\n",
              "          document.querySelector('#df-c8475aa0-8a92-45fb-ba8d-df16c14428d8 button.colab-df-convert');\n",
              "        buttonEl.style.display =\n",
              "          google.colab.kernel.accessAllowed ? 'block' : 'none';\n",
              "\n",
              "        async function convertToInteractive(key) {\n",
              "          const element = document.querySelector('#df-c8475aa0-8a92-45fb-ba8d-df16c14428d8');\n",
              "          const dataTable =\n",
              "            await google.colab.kernel.invokeFunction('convertToInteractive',\n",
              "                                                     [key], {});\n",
              "          if (!dataTable) return;\n",
              "\n",
              "          const docLinkHtml = 'Like what you see? Visit the ' +\n",
              "            '<a target=\"_blank\" href=https://colab.research.google.com/notebooks/data_table.ipynb>data table notebook</a>'\n",
              "            + ' to learn more about interactive tables.';\n",
              "          element.innerHTML = '';\n",
              "          dataTable['output_type'] = 'display_data';\n",
              "          await google.colab.output.renderOutput(dataTable, element);\n",
              "          const docLink = document.createElement('div');\n",
              "          docLink.innerHTML = docLinkHtml;\n",
              "          element.appendChild(docLink);\n",
              "        }\n",
              "      </script>\n",
              "    </div>\n",
              "  </div>\n",
              "  "
            ]
          },
          "metadata": {},
          "execution_count": 37
        }
      ],
      "source": [
        "pred_pd[1]"
      ]
    },
    {
      "cell_type": "markdown",
      "source": [
        "# 2. Accuracy evaluation\n",
        "\n"
      ],
      "metadata": {
        "id": "IY7PYbUY-Uur"
      }
    },
    {
      "cell_type": "code",
      "execution_count": null,
      "metadata": {
        "id": "LkQgO9T5OHzs"
      },
      "outputs": [],
      "source": [
        "def bbox_iou(box1, box2, eps=1e-7):\n",
        "  \"\"\"\n",
        "  CITATION: adapted from YOLOV5 utils, author, cr: ultralytics\n",
        "  Returns Intersection over Union (IoU) of box1(1,4) to box2(n,4)\n",
        "  Get the coordinates of bounding boxes, transform from xywh to xyxy\n",
        "  \"\"\"\n",
        "  (x1, y1, w1, h1), (x2, y2, w2, h2) = box1.chunk(4, 1), box2.chunk(4, 1)\n",
        "  w1_, h1_, w2_, h2_ = w1 / 2, h1 / 2, w2 / 2, h2 / 2\n",
        "  b1_x1, b1_x2, b1_y1, b1_y2 = x1 - w1_, x1 + w1_, y1 - h1_, y1 + h1_\n",
        "  b2_x1, b2_x2, b2_y1, b2_y2 = x2 - w2_, x2 + w2_, y2 - h2_, y2 + h2_\n",
        "\n",
        "  inter = (torch.min(b1_x2, b2_x2) - torch.max(b1_x1, b2_x1)).clamp(0) * \\\n",
        "          (torch.min(b1_y2, b2_y2) - torch.max(b1_y1, b2_y1)).clamp(0)\n",
        "  union = w1 * h1 + w2 * h2 - inter + eps\n",
        "  return inter / union  # return IoU\n",
        "  \n",
        "def each_pic(pred_df,truth_df,iou_th,must_class):\n",
        "  \"\"\"\n",
        "  returns number of objects (truth) and number of detection\n",
        "  e.g. if there are 5 pieces of trash in an image and we predicted 2, it will return 5,2\n",
        "  \"\"\"I usually  .yaml file in /yolov5/data/hyps/ controls augmentation hyper-parameters.\n",
        "  nr_targets = truth_df.shape[0]\n",
        "\n",
        "  pred_df_ = pred_df.assign(matched=[0]*pred_df.shape[0])\n",
        "  nr_preds = pred_df.shape[0]\n",
        "  nr_dets = 0\n",
        "  for i in truth_df.iterrows():\n",
        "    tbox_tensor = torch.tensor([i[1].tolist()[:4]])\n",
        "    tlabel = i[1].tolist()[5]\n",
        "    \n",
        "    row_counter=0\n",
        "    for j in pred_df_.iterrows():\n",
        "      pbox_tensor = torch.tensor([j[1].tolist()[:4]])\n",
        "      plabel = j[1].tolist()[5]\n",
        "      matched = j[1].tolist()[-1]\n",
        "      if must_class==True: # if the detection has to assign a correct class name. \n",
        "        if bbox_iou(tbox_tensor,pbox_tensor)>iou_th and matched==0 and tlabel==plabel:\n",
        "          nr_dets+=1\n",
        "          pred_df_.iat[row_counter,-1]=1 # mark matched bbox, so one prediction bbox wont be counted as \"detected\" for two different objects\n",
        "          continue\n",
        "      else: \n",
        "        if bbox_iou(tbox_tensor,pbox_tensor)>iou_th and matched==0:\n",
        "          nr_dets+=1\n",
        "          pred_df_.iat[row_counter,-1]=1\n",
        "          continue\n",
        "      row_counter+=1\n",
        "  return nr_targets,nr_dets\n",
        "\n",
        "def get_accuracy(pred,truth,iou_th=0.5,must_class=False):\n",
        "  \"\"\"\n",
        "  pred: prediction list of dataframe\n",
        "  truth: truth list of dataframe\n",
        "  iou_th IOU threshold you define suitable\n",
        "  must_class: controls whether the category need to be predicted correctly\n",
        "              when set to false, only consider whether predicted bbox bounded objects correctly, \n",
        "              without considering if the correct class is identified\n",
        "  \"\"\"\n",
        "  preds,dets=0,0\n",
        "  for i in tqdm(range(len(truth))):\n",
        "    p,d=each_pic(pred_pd[i],truth_pd[i],iou_th,must_class)\n",
        "    preds+=p\n",
        "    dets+=d\n",
        "  return np.round(dets/preds,6)"
      ]
    },
    {
      "cell_type": "markdown",
      "metadata": {
        "id": "t1nk9VlW3KZT"
      },
      "source": [
        "## 2.1 Get Accuracy\n",
        "\n",
        "- accuracy on the testing set."
      ]
    },
    {
      "cell_type": "code",
      "execution_count": null,
      "metadata": {
        "colab": {
          "base_uri": "https://localhost:8080/"
        },
        "id": "p8E9EsAMOH1d",
        "outputId": "561ab7b0-eea1-4759-e9db-35bff842a08b"
      },
      "outputs": [
        {
          "output_type": "stream",
          "name": "stderr",
          "text": [
            "100%|██████████| 201/201 [00:00<00:00, 206.41it/s]"
          ]
        },
        {
          "output_type": "stream",
          "name": "stdout",
          "text": [
            "\n",
            "Our trained model has an accuracy of: 44.5035%\n"
          ]
        },
        {
          "output_type": "stream",
          "name": "stderr",
          "text": [
            "\n"
          ]
        }
      ],
      "source": [
        "accuracy = get_accuracy(pred_pd,truth_pd,iou_th=0.5,must_class=True)\n",
        "print('\\nOur trained model has an accuracy of: '+str(accuracy*100)+'%')"
      ]
    },
    {
      "cell_type": "markdown",
      "metadata": {
        "id": "fZWitSXb3EHh"
      },
      "source": [
        "**Box-Accuracy**\n",
        "\n",
        "Some detection tasks care only about \"having a bounding box over the target object.\" They do not care about if the model then label the object with a correct class. If you want such accuracy, it can be obtained by setting `must_class` to `False`. \n",
        "\n",
        "An example:"
      ]
    },
    {
      "cell_type": "code",
      "execution_count": null,
      "metadata": {
        "colab": {
          "base_uri": "https://localhost:8080/"
        },
        "id": "28BGyq9g3Bwc",
        "outputId": "c2cc918d-5a74-4d17-e4cf-ece88f4de90a"
      },
      "outputs": [
        {
          "output_type": "stream",
          "name": "stderr",
          "text": [
            "100%|██████████| 201/201 [00:00<00:00, 211.62it/s]"
          ]
        },
        {
          "output_type": "stream",
          "name": "stdout",
          "text": [
            "\n",
            "Our trained model has an accuracy of: 64.539%\n"
          ]
        },
        {
          "output_type": "stream",
          "name": "stderr",
          "text": [
            "\n"
          ]
        }
      ],
      "source": [
        "accuracy = get_accuracy(pred_pd,truth_pd,iou_th=0.5,must_class=False)\n",
        "print('\\nOur trained model has an accuracy of: '+str(accuracy*100)+'%')"
      ]
    },
    {
      "cell_type": "code",
      "source": [],
      "metadata": {
        "id": "1GPHVK58KF3W"
      },
      "execution_count": null,
      "outputs": []
    },
    {
      "cell_type": "markdown",
      "source": [
        "**we can also check accuracy on the training set.**"
      ],
      "metadata": {
        "id": "_t9UlxxOKUUo"
      }
    },
    {
      "cell_type": "code",
      "source": [
        "%%capture\n",
        "%rm -rf /content/yolov5/runs/detect/*\n",
        "\n",
        "!python /content/yolov5/detect.py \\\n",
        "--conf-thres 0.4 \\\n",
        "--weights /content/weights.pt \\\n",
        "--source /content/TACO/images/train \\\n",
        "--imgsz 640 \\\n",
        "--augment \\\n",
        "--save-txt"
      ],
      "metadata": {
        "id": "BVwKBokbKF6_"
      },
      "execution_count": null,
      "outputs": []
    },
    {
      "cell_type": "code",
      "source": [
        "pred_pd = []\n",
        "for i in train_ids:\n",
        "  try: pred_pd.append(pred_getter(i))\n",
        "  except: pred_pd.append(pd.DataFrame(columns=['xcenter','ycenter','width','height','confidence','class','class_name'] ))\n",
        "\n",
        "truth_pd=[]\n",
        "for i in train_ids:\n",
        "  truth_pd.append(truth_getter(i))"
      ],
      "metadata": {
        "id": "3om-eDu0KOOp"
      },
      "execution_count": null,
      "outputs": []
    },
    {
      "cell_type": "code",
      "source": [
        "accuracy = get_accuracy(pred_pd,truth_pd,iou_th=0.5,must_class=True)\n",
        "print('\\nmodel has an accuracy of: '+str(accuracy*100)+'%')"
      ],
      "metadata": {
        "colab": {
          "base_uri": "https://localhost:8080/"
        },
        "id": "uS22vYQnKOQ1",
        "outputId": "018e6d55-8b9e-4b84-f506-1061f481c23a"
      },
      "execution_count": null,
      "outputs": [
        {
          "output_type": "stream",
          "name": "stderr",
          "text": [
            "100%|██████████| 1101/1101 [00:07<00:00, 143.23it/s]"
          ]
        },
        {
          "output_type": "stream",
          "name": "stdout",
          "text": [
            "\n",
            "Our trained model has an accuracy of: 96.4776%\n"
          ]
        },
        {
          "output_type": "stream",
          "name": "stderr",
          "text": [
            "\n"
          ]
        }
      ]
    },
    {
      "cell_type": "code",
      "execution_count": null,
      "metadata": {
        "id": "ME1EbHlgOc4F"
      },
      "outputs": [],
      "source": [
        "#!zip -qq /gdrive/MyDrive/Evaluation_yolo_m_500.zip /content/yolov5/runs/detect/exp/*"
      ]
    },
    {
      "cell_type": "code",
      "execution_count": null,
      "metadata": {
        "id": "5iPP1vh-Oc6N"
      },
      "outputs": [],
      "source": [
        "# from google.colab import runtime\n",
        "# runtime.unassign()"
      ]
    }
  ],
  "metadata": {
    "accelerator": "GPU",
    "colab": {
      "provenance": [],
      "machine_shape": "hm"
    },
    "gpuClass": "premium",
    "kernelspec": {
      "display_name": "Python 3 (ipykernel)",
      "language": "python",
      "name": "python3"
    },
    "language_info": {
      "codemirror_mode": {
        "name": "ipython",
        "version": 3
      },
      "file_extension": ".py",
      "mimetype": "text/x-python",
      "name": "python",
      "nbconvert_exporter": "python",
      "pygments_lexer": "ipython3",
      "version": "3.9.12"
    }
  },
  "nbformat": 4,
  "nbformat_minor": 0
}