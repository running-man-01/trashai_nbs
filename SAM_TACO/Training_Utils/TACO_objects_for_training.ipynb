{
  "nbformat": 4,
  "nbformat_minor": 0,
  "metadata": {
    "colab": {
      "provenance": []
    },
    "kernelspec": {
      "name": "python3",
      "display_name": "Python 3"
    },
    "language_info": {
      "name": "python"
    }
  },
  "cells": [
    {
      "cell_type": "code",
      "execution_count": null,
      "metadata": {
        "id": "AzYrjnFkTydH"
      },
      "outputs": [],
      "source": [
        "import os\n",
        "from PIL import Image, ExifTags\n",
        "from pycocotools.coco import COCO\n",
        "# from matplotlib.patches import Polygon, Rectangle\n",
        "# from matplotlib.collections import PatchCollection\n",
        "# import colorsys\n",
        "# import random\n",
        "# import pylab\n",
        "\n",
        "import json\n",
        "import numpy as np\n",
        "import pandas as pd\n",
        "import matplotlib.pyplot as plt\n",
        "import seaborn as sns\n",
        "\n",
        "from tqdm import tqdm\n",
        "\n",
        "import shutil\n",
        "\n",
        "import cv2\n",
        "\n",
        "# import torch\n",
        "# from torch.utils.data import Dataset, DataLoader\n",
        "# from torchvision import transforms, utils"
      ]
    },
    {
      "cell_type": "code",
      "source": [
        "from google.colab import drive\n",
        "drive.mount('/gdrive',force_remount=True)\n",
        "if not os.path.isfile('./TACO.zip'):\n",
        "  %cp /gdrive/MyDrive/TACO.zip /content/\n",
        "  !unzip -qq TACO.zip"
      ],
      "metadata": {
        "colab": {
          "base_uri": "https://localhost:8080/"
        },
        "id": "DQfEBmiSVn-n",
        "outputId": "757f44af-0a0a-4f56-f3cf-b4223e781b43"
      },
      "execution_count": null,
      "outputs": [
        {
          "output_type": "stream",
          "name": "stdout",
          "text": [
            "Mounted at /gdrive\n"
          ]
        }
      ]
    },
    {
      "cell_type": "code",
      "source": [],
      "metadata": {
        "id": "Eb0eR__dVDQ9"
      },
      "execution_count": null,
      "outputs": []
    },
    {
      "cell_type": "code",
      "source": [
        "!wget https://github.com/pedropro/TACO/raw/master/data/annotations.json"
      ],
      "metadata": {
        "colab": {
          "base_uri": "https://localhost:8080/"
        },
        "id": "YCuoBGfMUO6V",
        "outputId": "81649107-21ca-432d-9686-4615370785ad"
      },
      "execution_count": null,
      "outputs": [
        {
          "output_type": "stream",
          "name": "stdout",
          "text": [
            "--2023-04-16 04:30:00--  https://github.com/pedropro/TACO/raw/master/data/annotations.json\n",
            "Resolving github.com (github.com)... 140.82.113.3\n",
            "Connecting to github.com (github.com)|140.82.113.3|:443... connected.\n",
            "HTTP request sent, awaiting response... 302 Found\n",
            "Location: https://raw.githubusercontent.com/pedropro/TACO/master/data/annotations.json [following]\n",
            "--2023-04-16 04:30:01--  https://raw.githubusercontent.com/pedropro/TACO/master/data/annotations.json\n",
            "Resolving raw.githubusercontent.com (raw.githubusercontent.com)... 185.199.111.133, 185.199.110.133, 185.199.108.133, ...\n",
            "Connecting to raw.githubusercontent.com (raw.githubusercontent.com)|185.199.111.133|:443... connected.\n",
            "HTTP request sent, awaiting response... 200 OK\n",
            "Length: 3022022 (2.9M) [text/plain]\n",
            "Saving to: ‘annotations.json’\n",
            "\n",
            "annotations.json    100%[===================>]   2.88M  --.-KB/s    in 0.03s   \n",
            "\n",
            "2023-04-16 04:30:01 (109 MB/s) - ‘annotations.json’ saved [3022022/3022022]\n",
            "\n"
          ]
        }
      ]
    },
    {
      "cell_type": "code",
      "source": [
        "coco = COCO('./annotations.json')"
      ],
      "metadata": {
        "colab": {
          "base_uri": "https://localhost:8080/"
        },
        "id": "cVffBq1TUO8g",
        "outputId": "33733761-5303-4903-8c1f-4a6cce40d804"
      },
      "execution_count": null,
      "outputs": [
        {
          "output_type": "stream",
          "name": "stdout",
          "text": [
            "loading annotations into memory...\n",
            "Done (t=0.08s)\n",
            "creating index...\n",
            "index created!\n"
          ]
        }
      ]
    },
    {
      "cell_type": "markdown",
      "source": [
        "## get positive images"
      ],
      "metadata": {
        "id": "de1UV0vPVDh2"
      }
    },
    {
      "cell_type": "code",
      "source": [],
      "metadata": {
        "id": "wVpSR9n8VDTS"
      },
      "execution_count": null,
      "outputs": []
    },
    {
      "cell_type": "code",
      "source": [
        "!rm -rf /content/img_cut\n",
        "!mkdir -p /content/img_cut/{img,lbl}\n",
        "\n",
        "for img_id in tqdm(range(1500)):\n",
        "  annotation_ids = coco.getAnnIds(img_id)\n",
        "  if len(annotation_ids) == 0:\n",
        "    continue\n",
        "\n",
        "  img_info = coco.loadImgs(img_id)[0]\n",
        "  #print(img_info)\n",
        "  height = img_info['height']\n",
        "  width = img_info['width']\n",
        "  annotations = coco.loadAnns(annotation_ids)\n",
        "  for i in annotations:\n",
        "    image = cv2.imread('/content/TACO/'+str(img_id)+'.jpg')\n",
        "    x,y,w,h = [int(j) for j in np.clip(i['bbox'],0,None)]\n",
        "    cut = image[y:y+h,x:x+w]\n",
        "    cv2.imwrite('/content/img_cut/img/'+str(img_id)+'_'+str(i['id'])+'.jpg',cut)\n",
        "    np.savez_compressed('/content/img_cut/lbl/'+str(img_id)+'_'+str(i['id'])+'.npz',i)\n"
      ],
      "metadata": {
        "colab": {
          "base_uri": "https://localhost:8080/"
        },
        "id": "6ifJBFiCVLj0",
        "outputId": "65ae2816-e0d7-43b0-95c4-778f6a3bec60"
      },
      "execution_count": null,
      "outputs": [
        {
          "output_type": "stream",
          "name": "stderr",
          "text": [
            "100%|██████████| 1500/1500 [09:42<00:00,  2.57it/s]\n"
          ]
        }
      ]
    },
    {
      "cell_type": "code",
      "source": [
        "!cp -r img_cut /gdrive/MyDrive"
      ],
      "metadata": {
        "id": "FxBcdD67c1pm"
      },
      "execution_count": null,
      "outputs": []
    },
    {
      "cell_type": "code",
      "source": [],
      "metadata": {
        "id": "6RqxcugUVDXb"
      },
      "execution_count": null,
      "outputs": []
    },
    {
      "cell_type": "markdown",
      "source": [
        "## get negative images"
      ],
      "metadata": {
        "id": "RdVPwJNVVFlI"
      }
    },
    {
      "cell_type": "code",
      "source": [
        "seg_size = []\n",
        "for img_id in tqdm(range(1500)):\n",
        "  annotation_ids = coco.getAnnIds(img_id)\n",
        "  if len(annotation_ids) == 0:\n",
        "    continue\n",
        "\n",
        "  img_info = coco.loadImgs(img_id)[0]\n",
        "  #print(img_info)\n",
        "  height = img_info['height']\n",
        "  width = img_info['width']\n",
        "  annotations = coco.loadAnns(annotation_ids)\n",
        "  for i in annotations:\n",
        "    #image = cv2.imread('/content/TACO/'+str(img_id)+'.jpg')\n",
        "    x,y,w,h = [int(j) for j in np.clip(i['bbox'],0,None)]\n",
        "    seg_size.append([w,h])"
      ],
      "metadata": {
        "colab": {
          "base_uri": "https://localhost:8080/"
        },
        "id": "SZ2HyG5pVFPe",
        "outputId": "c1778482-c56f-4546-a83d-5d1d95385c6b"
      },
      "execution_count": null,
      "outputs": [
        {
          "output_type": "stream",
          "name": "stderr",
          "text": [
            "100%|██████████| 1500/1500 [00:00<00:00, 12383.76it/s]\n"
          ]
        }
      ]
    },
    {
      "cell_type": "code",
      "source": [
        "plt.hist([i[2]/i[0] for i in seg_size])"
      ],
      "metadata": {
        "colab": {
          "base_uri": "https://localhost:8080/",
          "height": 534
        },
        "id": "Z4SLef3pVFRh",
        "outputId": "7931446c-834d-4100-9892-ebb290dae60e"
      },
      "execution_count": null,
      "outputs": [
        {
          "output_type": "execute_result",
          "data": {
            "text/plain": [
              "(array([3061.,  895.,  359.,  189.,  115.,   62.,   38.,   29.,   20.,\n",
              "          16.]),\n",
              " array([0.00306373, 0.10272389, 0.20238405, 0.30204421, 0.40170437,\n",
              "        0.50136453, 0.60102469, 0.70068485, 0.80034501, 0.90000517,\n",
              "        0.99966533]),\n",
              " <BarContainer object of 10 artists>)"
            ]
          },
          "metadata": {},
          "execution_count": 50
        },
        {
          "output_type": "display_data",
          "data": {
            "text/plain": [
              "<Figure size 640x480 with 1 Axes>"
            ],
            "image/png": "[encoded data removed]"
          },
          "metadata": {}
        }
      ]
    },
    {
      "cell_type": "code",
      "source": [
        "sns.histplot(np.array(seg_size))"
      ],
      "metadata": {
        "colab": {
          "base_uri": "https://localhost:8080/",
          "height": 447
        },
        "id": "dtq8sw3sVFTF",
        "outputId": "3b005973-492a-4418-e28f-e2b799f32ae5"
      },
      "execution_count": null,
      "outputs": [
        {
          "output_type": "execute_result",
          "data": {
            "text/plain": [
              "<Axes: ylabel='Count'>"
            ]
          },
          "metadata": {},
          "execution_count": 54
        },
        {
          "output_type": "display_data",
          "data": {
            "text/plain": [
              "<Figure size 640x480 with 1 Axes>"
            ],
            "image/png": "[encoded data removed]"
          },
          "metadata": {}
        }
      ]
    },
    {
      "cell_type": "code",
      "source": [],
      "metadata": {
        "id": "qyRzY7MPVFVb"
      },
      "execution_count": null,
      "outputs": []
    }
  ]
}