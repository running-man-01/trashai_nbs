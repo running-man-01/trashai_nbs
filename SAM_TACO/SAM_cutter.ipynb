{
  "cells": [
    {
      "cell_type": "code",
      "execution_count": 1,
      "metadata": {
        "id": "PJytsU52Vs3p"
      },
      "outputs": [],
      "source": [
        "#!nvidia-smi"
      ]
    },
    {
      "cell_type": "code",
      "execution_count": 2,
      "metadata": {
        "colab": {
          "base_uri": "https://localhost:8080/"
        },
        "id": "EkWZ2Wu9aC2d",
        "outputId": "eca8da52-fa8f-461c-cd29-30bf84ca336e"
      },
      "outputs": [
        {
          "output_type": "stream",
          "name": "stdout",
          "text": [
            "PyTorch version: 2.0.0+cu118\n",
            "Torchvision version: 0.15.1+cu118\n",
            "CUDA is available: True\n"
          ]
        }
      ],
      "source": [
        "import numpy as np\n",
        "import torch\n",
        "import matplotlib.pyplot as plt\n",
        "import cv2\n",
        "from tqdm import tqdm\n",
        "\n",
        "import torch\n",
        "import torchvision\n",
        "\n",
        "print(\"PyTorch version:\", torch.__version__)\n",
        "print(\"Torchvision version:\", torchvision.__version__)\n",
        "print(\"CUDA is available:\", torch.cuda.is_available())"
      ]
    },
    {
      "cell_type": "code",
      "source": [
        "import sys\n",
        "!{sys.executable} -m pip install opencv-python matplotlib\n",
        "!{sys.executable} -m pip install 'git+https://github.com/facebookresearch/segment-anything.git'\n",
        "\n",
        "#!git clone https://github.com/facebookresearch/segment-anything.git\n",
        "#!pip install git+https://github.com/facebookresearch/segment-anything.git"
      ],
      "metadata": {
        "colab": {
          "base_uri": "https://localhost:8080/"
        },
        "id": "uteNq8xGNNe3",
        "outputId": "dc1740d9-f528-4bf0-b427-563795146bca"
      },
      "execution_count": 3,
      "outputs": [
        {
          "output_type": "stream",
          "name": "stdout",
          "text": [
            "Looking in indexes: https://pypi.org/simple, https://us-python.pkg.dev/colab-wheels/public/simple/\n",
            "Requirement already satisfied: opencv-python in /usr/local/lib/python3.10/dist-packages (4.7.0.72)\n",
            "Requirement already satisfied: matplotlib in /usr/local/lib/python3.10/dist-packages (3.7.1)\n",
            "Requirement already satisfied: numpy>=1.17.0 in /usr/local/lib/python3.10/dist-packages (from opencv-python) (1.22.4)\n",
            "Requirement already satisfied: python-dateutil>=2.7 in /usr/local/lib/python3.10/dist-packages (from matplotlib) (2.8.2)\n",
            "Requirement already satisfied: contourpy>=1.0.1 in /usr/local/lib/python3.10/dist-packages (from matplotlib) (1.0.7)\n",
            "Requirement already satisfied: pillow>=6.2.0 in /usr/local/lib/python3.10/dist-packages (from matplotlib) (8.4.0)\n",
            "Requirement already satisfied: cycler>=0.10 in /usr/local/lib/python3.10/dist-packages (from matplotlib) (0.11.0)\n",
            "Requirement already satisfied: packaging>=20.0 in /usr/local/lib/python3.10/dist-packages (from matplotlib) (23.1)\n",
            "Requirement already satisfied: pyparsing>=2.3.1 in /usr/local/lib/python3.10/dist-packages (from matplotlib) (3.0.9)\n",
            "Requirement already satisfied: fonttools>=4.22.0 in /usr/local/lib/python3.10/dist-packages (from matplotlib) (4.39.3)\n",
            "Requirement already satisfied: kiwisolver>=1.0.1 in /usr/local/lib/python3.10/dist-packages (from matplotlib) (1.4.4)\n",
            "Requirement already satisfied: six>=1.5 in /usr/local/lib/python3.10/dist-packages (from python-dateutil>=2.7->matplotlib) (1.16.0)\n",
            "Looking in indexes: https://pypi.org/simple, https://us-python.pkg.dev/colab-wheels/public/simple/\n",
            "Collecting git+https://github.com/facebookresearch/segment-anything.git\n",
            "  Cloning https://github.com/facebookresearch/segment-anything.git to /tmp/pip-req-build-ugx07gs6\n",
            "  Running command git clone --filter=blob:none --quiet https://github.com/facebookresearch/segment-anything.git /tmp/pip-req-build-ugx07gs6\n",
            "  Resolved https://github.com/facebookresearch/segment-anything.git to commit 6fdee8f2727f4506cfbbe553e23b895e27956588\n",
            "  Preparing metadata (setup.py) ... \u001b[?25l\u001b[?25hdone\n",
            "Building wheels for collected packages: segment-anything\n",
            "  Building wheel for segment-anything (setup.py) ... \u001b[?25l\u001b[?25hdone\n",
            "  Created wheel for segment-anything: filename=segment_anything-1.0-py3-none-any.whl size=36610 sha256=14698f6703ca67de79939d7f76d5c25734f2f36237bb8b13cb87e0c766f387ab\n",
            "  Stored in directory: /tmp/pip-ephem-wheel-cache-_n0trydt/wheels/10/cf/59/9ccb2f0a1bcc81d4fbd0e501680b5d088d690c6cfbc02dc99d\n",
            "Successfully built segment-anything\n",
            "Installing collected packages: segment-anything\n",
            "Successfully installed segment-anything-1.0\n"
          ]
        }
      ]
    },
    {
      "cell_type": "code",
      "execution_count": 4,
      "metadata": {
        "id": "F1yzJMtzcBB2"
      },
      "outputs": [],
      "source": [
        "# %cd segment-anything\n",
        "# !pip install -e .\n",
        "# %cd .."
      ]
    },
    {
      "cell_type": "code",
      "execution_count": 5,
      "metadata": {
        "id": "QFkmHeVGbdhz"
      },
      "outputs": [],
      "source": [
        "#!pip install opencv-python pycocotools matplotlib onnxruntime onnx"
      ]
    },
    {
      "cell_type": "code",
      "execution_count": 6,
      "metadata": {
        "colab": {
          "base_uri": "https://localhost:8080/"
        },
        "id": "bptP3ZaGVRqW",
        "outputId": "f6f27c95-60fc-4f44-d596-13dee2b16d24"
      },
      "outputs": [
        {
          "output_type": "stream",
          "name": "stdout",
          "text": [
            "Mounted at /gdrive\n"
          ]
        }
      ],
      "source": [
        "# Get TACO dataset\n",
        "\n",
        "import os\n",
        "from google.colab import drive\n",
        "drive.mount('/gdrive',force_remount=True)\n",
        "if not os.path.isfile('/content/TACO.zip'):\n",
        "  %cp /gdrive/MyDrive/TACO.zip /content/TACO.zip\n",
        "  # unzip data, move them \n",
        "  !unzip -qq ./TACO.zip \n",
        "  %mkdir -p ./dataset/images/ && mv ./TACO/* ./dataset/images/ && rm -rf ./TACO"
      ]
    },
    {
      "cell_type": "code",
      "execution_count": 7,
      "metadata": {
        "id": "11Yd-E-OXBs9"
      },
      "outputs": [],
      "source": [
        "#!wget https://github.com/pedropro/TACO/raw/master/data/annotations.json"
      ]
    },
    {
      "cell_type": "code",
      "execution_count": 8,
      "metadata": {
        "id": "bQUBjC7DZL8s"
      },
      "outputs": [],
      "source": [
        "if not os.path.isfile('./sam_vit_h_4b8939.pth') and os.path.isfile('/gdrive/MyDrive/sam_vit_h_4b8939.pth'):\n",
        "  !cp /gdrive/MyDrive/sam_vit_h_4b8939.pth ./\n",
        "else:\n",
        "  !wget https://dl.fbaipublicfiles.com/segment_anything/sam_vit_h_4b8939.pth\n",
        "  !cp sam_vit_h_4b8939.pth /gdrive/MyDrive/"
      ]
    },
    {
      "cell_type": "code",
      "execution_count": 8,
      "metadata": {
        "id": "tRqdf20pMMA9"
      },
      "outputs": [],
      "source": []
    },
    {
      "cell_type": "code",
      "execution_count": 9,
      "metadata": {
        "id": "rhULSPUoZqfQ"
      },
      "outputs": [],
      "source": [
        "import json\n",
        "if not os.path.isdir('./SAM_output'):\n",
        "  !mkdir SAM_output"
      ]
    },
    {
      "cell_type": "code",
      "execution_count": 10,
      "metadata": {
        "id": "n38sVX46k95v"
      },
      "outputs": [],
      "source": [
        "def show_anns(anns):\n",
        "    if len(anns) == 0:\n",
        "        return\n",
        "    sorted_anns = sorted(anns, key=(lambda x: x['area']), reverse=True)\n",
        "    ax = plt.gca()\n",
        "    ax.set_autoscale_on(False)\n",
        "    polygons = []\n",
        "    color = []\n",
        "    for ann in sorted_anns:\n",
        "        m = ann['segmentation']\n",
        "        img = np.ones((m.shape[0], m.shape[1], 3))\n",
        "        color_mask = np.random.random((1, 3)).tolist()[0]\n",
        "        for i in range(3):\n",
        "            img[:,:,i] = color_mask[i]\n",
        "        ax.imshow(np.dstack((img, m*0.35)))"
      ]
    },
    {
      "cell_type": "markdown",
      "source": [
        "## Get SAM, load pretrained weights"
      ],
      "metadata": {
        "id": "lt4zAhSrEKPi"
      }
    },
    {
      "cell_type": "code",
      "execution_count": 11,
      "metadata": {
        "id": "pmktyz3Kk98K"
      },
      "outputs": [],
      "source": [
        "#import sys\n",
        "#sys.path.append(\"..\")\n",
        "from segment_anything import sam_model_registry, SamAutomaticMaskGenerator, SamPredictor\n",
        "\n",
        "sam_checkpoint = \"sam_vit_h_4b8939.pth\"\n",
        "model_type = \"vit_h\"\n",
        "\n",
        "device = \"cuda\"\n",
        "\n",
        "sam = sam_model_registry[model_type](checkpoint=sam_checkpoint)\n",
        "sam.to(device=device)\n",
        "\n",
        "mask_generator = SamAutomaticMaskGenerator(sam)\n",
        "\n"
      ]
    },
    {
      "cell_type": "code",
      "execution_count": 18,
      "metadata": {
        "id": "3oxtEbE7or19"
      },
      "outputs": [],
      "source": [
        "def img_mask_getter(img_id):\n",
        "  image = cv2.imread('/content/dataset/images/'+str(img_id)+'.jpg')\n",
        "  image = cv2.cvtColor(image, cv2.COLOR_BGR2RGB)\n",
        "  masks = mask_generator.generate(image)\n",
        "  np.savez_compressed('/content/SAM_output/'+str(img_id)+'.npz',masks)\n",
        "  \n",
        "\n",
        "  "
      ]
    },
    {
      "cell_type": "code",
      "execution_count": 19,
      "metadata": {
        "id": "tTAXU7rNmFat"
      },
      "outputs": [],
      "source": [
        "#get cropped objects\n",
        "def objects_getter(image,masks):\n",
        "  candidates = []\n",
        "  for id, mask in enumerate(masks):\n",
        "    x,y,w,h = mask['bbox']\n",
        "    masked = image*np.dstack([mask['segmentation'],mask['segmentation'],mask['segmentation']])\n",
        "    masked_cropped = masked[y:y+h,x:x+w]\n",
        "    cv2.imwrite(str(id)+'.png',masked_cropped)\n",
        "    candidates.append(masked_cropped)\n",
        "  return candidates"
      ]
    },
    {
      "cell_type": "markdown",
      "source": [
        "## Make segmentations on images"
      ],
      "metadata": {
        "id": "sFsgUp2OENlH"
      }
    },
    {
      "cell_type": "code",
      "execution_count": 22,
      "metadata": {
        "id": "myy_mduVBLM-",
        "colab": {
          "base_uri": "https://localhost:8080/"
        },
        "outputId": "e67bc566-ee83-4a62-c197-3c51b0ce6bbc"
      },
      "outputs": [
        {
          "output_type": "stream",
          "name": "stderr",
          "text": [
            "100%|██████████| 50/50 [05:18<00:00,  6.37s/it]\n"
          ]
        }
      ],
      "source": [
        "# DEMO: get segmentation masks for the first 50 images;\n",
        "# set range() to 1500 for results on all 1500 TACO images\n",
        "\n",
        "!rm -rf /content/SAM_output/*\n",
        "for i in tqdm(range(50)):\n",
        "  img_mask_getter(i)\n",
        "  "
      ]
    },
    {
      "cell_type": "code",
      "execution_count": null,
      "metadata": {
        "id": "0qNRvPY2J7qT"
      },
      "outputs": [],
      "source": []
    },
    {
      "cell_type": "code",
      "execution_count": null,
      "metadata": {
        "id": "WBkdX3cWZjQ3"
      },
      "outputs": [],
      "source": []
    },
    {
      "cell_type": "markdown",
      "metadata": {
        "id": "6XrGJIUvJ51P"
      },
      "source": []
    }
  ],
  "metadata": {
    "accelerator": "GPU",
    "colab": {
      "machine_shape": "hm",
      "provenance": []
    },
    "gpuClass": "premium",
    "kernelspec": {
      "display_name": "Python 3",
      "name": "python3"
    },
    "language_info": {
      "name": "python"
    }
  },
  "nbformat": 4,
  "nbformat_minor": 0
}