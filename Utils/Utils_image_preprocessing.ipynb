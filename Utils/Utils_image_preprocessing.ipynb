{
 "cells": [
  {
   "cell_type": "code",
   "execution_count": 1,
   "metadata": {
    "executionInfo": {
     "elapsed": 4,
     "status": "ok",
     "timestamp": 1663534272139,
     "user": {
      "displayName": "Zane Z",
      "userId": "09513905782664152412"
     },
     "user_tz": 240
    },
    "id": "z6cj_abxKYhp"
   },
   "outputs": [],
   "source": [
    "# some preprocessing on TACO would be helpful before feeding it to models."
   ]
  },
  {
   "cell_type": "code",
   "execution_count": 2,
   "metadata": {
    "colab": {
     "base_uri": "https://localhost:8080/",
     "height": 295
    },
    "executionInfo": {
     "elapsed": 7877,
     "status": "ok",
     "timestamp": 1663534280014,
     "user": {
      "displayName": "Zane Z",
      "userId": "09513905782664152412"
     },
     "user_tz": 240
    },
    "id": "1dpyNzOhXCtU",
    "outputId": "021dc6dd-3233-4840-95be-e5d45c9347dd"
   },
   "outputs": [
    {
     "name": "stdout",
     "output_type": "stream",
     "text": [
      "Looking in indexes: https://pypi.org/simple, https://us-python.pkg.dev/colab-wheels/public/simple/\n",
      "Requirement already satisfied: Pillow in /usr/local/lib/python3.7/dist-packages (7.1.2)\n",
      "Collecting Pillow\n",
      "  Downloading Pillow-9.2.0-cp37-cp37m-manylinux_2_17_x86_64.manylinux2014_x86_64.whl (3.1 MB)\n",
      "\u001b[K     |████████████████████████████████| 3.1 MB 2.1 MB/s \n",
      "\u001b[?25hInstalling collected packages: Pillow\n",
      "  Attempting uninstall: Pillow\n",
      "    Found existing installation: Pillow 7.1.2\n",
      "    Uninstalling Pillow-7.1.2:\n",
      "      Successfully uninstalled Pillow-7.1.2\n",
      "Successfully installed Pillow-9.2.0\n"
     ]
    },
    {
     "data": {
      "application/vnd.colab-display-data+json": {
       "pip_warning": {
        "packages": [
         "PIL"
        ]
       }
      }
     },
     "metadata": {},
     "output_type": "display_data"
    }
   ],
   "source": [
    "!pip install --upgrade Pillow"
   ]
  },
  {
   "cell_type": "code",
   "execution_count": 7,
   "metadata": {
    "executionInfo": {
     "elapsed": 1337,
     "status": "ok",
     "timestamp": 1663534300373,
     "user": {
      "displayName": "Zane Z",
      "userId": "09513905782664152412"
     },
     "user_tz": 240
    },
    "id": "OxRdKza05PUs"
   },
   "outputs": [
    {
     "name": "stdout",
     "output_type": "stream",
     "text": [
      "NOTE! Installing ujson may make loading annotations faster.\n"
     ]
    },
    {
     "name": "stderr",
     "output_type": "stream",
     "text": [
      "/opt/conda/lib/python3.8/site-packages/tqdm/auto.py:22: TqdmWarning: IProgress not found. Please update jupyter and ipywidgets. See https://ipywidgets.readthedocs.io/en/stable/user_install.html\n",
      "  from .autonotebook import tqdm as notebook_tqdm\n"
     ]
    }
   ],
   "source": [
    "from PIL import Image, ExifTags\n",
    "from pycocotools.coco import COCO\n",
    "from matplotlib.patches import Polygon, Rectangle\n",
    "from matplotlib.collections import PatchCollection\n",
    "import colorsys\n",
    "import random\n",
    "import pylab\n",
    "\n",
    "import json\n",
    "import numpy as np\n",
    "import pandas as pd\n",
    "import matplotlib.pyplot as plt\n",
    "import seaborn as sns; sns.set()\n",
    "from tqdm import tqdm\n",
    "\n",
    "import shutil\n",
    "import os\n",
    "\n",
    "import torch\n",
    "from torch.utils.data import Dataset, DataLoader\n",
    "from torchvision import transforms, utils"
   ]
  },
  {
   "cell_type": "code",
   "execution_count": 5,
   "metadata": {
    "executionInfo": {
     "elapsed": 50338,
     "status": "ok",
     "timestamp": 1663534350706,
     "user": {
      "displayName": "Zane Z",
      "userId": "09513905782664152412"
     },
     "user_tz": 240
    },
    "id": "bduFjcM952P1"
   },
   "outputs": [],
   "source": [
    "# Download TACO images from the original author\n",
    "!rm -rf ./data\n",
    "!mkdir data\n",
    "!wget -O data/annotations.json https://raw.githubusercontent.com/pedropro/TACO/master/data/annotations.json\n",
    "!wget https://raw.githubusercontent.com/pedropro/TACO/master/download.py"
   ]
  },
  {
   "cell_type": "code",
   "execution_count": null,
   "metadata": {},
   "outputs": [],
   "source": [
    "!python download.py"
   ]
  },
  {
   "cell_type": "code",
   "execution_count": 8,
   "metadata": {
    "colab": {
     "base_uri": "https://localhost:8080/"
    },
    "executionInfo": {
     "elapsed": 3,
     "status": "ok",
     "timestamp": 1663534350706,
     "user": {
      "displayName": "Zane Z",
      "userId": "09513905782664152412"
     },
     "user_tz": 240
    },
    "id": "rU9NtHt-6he4",
    "outputId": "a1b58349-3cf3-4f5d-b37d-93e2931410f4"
   },
   "outputs": [
    {
     "name": "stdout",
     "output_type": "stream",
     "text": [
      "loading annotations into memory...\n",
      "Done (t=0.09s)\n",
      "creating index...\n",
      "index created!\n"
     ]
    }
   ],
   "source": [
    "dataset_path = './data'\n",
    "anns_file_path = dataset_path + '/' + 'annotations.json'\n",
    "\n",
    "with open(anns_file_path, 'r') as f:\n",
    "    dataset = json.loads(f.read())\n",
    "imgs = dataset['images']\n",
    "\n",
    "data_source = COCO(annotation_file=anns_file_path)"
   ]
  },
  {
   "cell_type": "code",
   "execution_count": null,
   "metadata": {
    "executionInfo": {
     "elapsed": 660,
     "status": "ok",
     "timestamp": 1663534351364,
     "user": {
      "displayName": "Zane Z",
      "userId": "09513905782664152412"
     },
     "user_tz": 240
    },
    "id": "vp-7n8W4Kg9W"
   },
   "outputs": [],
   "source": [
    "!rm -rf ./yoloTACO\n",
    "!mkdir yoloTACO\n",
    "!mkdir yoloTACO/images\n",
    "!mkdir yoloTACO/labels"
   ]
  },
  {
   "cell_type": "code",
   "execution_count": null,
   "metadata": {
    "colab": {
     "base_uri": "https://localhost:8080/"
    },
    "executionInfo": {
     "elapsed": 9918,
     "status": "ok",
     "timestamp": 1663534361281,
     "user": {
      "displayName": "Zane Z",
      "userId": "09513905782664152412"
     },
     "user_tz": 240
    },
    "id": "l1GbgdkM6VSM",
    "outputId": "7ea119ca-d341-43ea-f78b-92b718fb2b8a"
   },
   "outputs": [],
   "source": [
    "dst = \"./yoloTACO\"\n",
    "coco = COCO(anns_file_path)\n",
    "\n",
    "for img in tqdm(imgs):\n",
    "\n",
    "  # reorganize images\n",
    "  img_id = img['id']\n",
    "  img_location = './data/'+img['file_name']\n",
    "  shutil.copy(img_location, os.path.join(dst+'/images/',str(img_id)+'.jpg'))\n",
    "\n",
    "  # reorganize annotations\n",
    "  annotation_ids = coco.getAnnIds(img_id)\n",
    "  if len(annotation_ids) == 0:\n",
    "    continue\n",
    "\n",
    "  img_info = data_source.loadImgs(img_id)[0]    \n",
    "  height = img_info['height']\n",
    "  width = img_info['width']\n",
    "\n",
    "  with open(dst+'/labels/'+str(img_id)+'.txt', mode='w') as fp:\n",
    "    annotations = coco.loadAnns(annotation_ids)\n",
    "    lines = ''\n",
    "    for annotation in annotations:\n",
    "      label = annotation['category_id']\n",
    "      box = annotation['bbox'] \n",
    "      # some annotations have basically no width / height (extremely small), skip them\n",
    "      if box[2] < 10 or box[3] < 10:\n",
    "        continue\n",
    "      # top_x,top_y,width,height ----> cen_x,cen_y,width,height\n",
    "      # standardize to 0-1\n",
    "      box[0] = round((box[0] + box[2] / 2) / width, 6)\n",
    "      box[1] = round((box[1] + box[3] / 2) / height, 6)\n",
    "      box[2] = round(box[2] / width, 6)\n",
    "      box[3] = round(box[3] / height, 6)\n",
    "      # line: label x_center y_center width height\n",
    "      lines = lines + str(label)\n",
    "      for i in box:\n",
    "          lines += ' ' + str(i)\n",
    "      lines += '\\n'\n",
    "    fp.writelines(lines)"
   ]
  },
  {
   "cell_type": "code",
   "execution_count": 6,
   "metadata": {
    "executionInfo": {
     "elapsed": 16,
     "status": "ok",
     "timestamp": 1663534361282,
     "user": {
      "displayName": "Zane Z",
      "userId": "09513905782664152412"
     },
     "user_tz": 240
    },
    "id": "oOpVJ-7D6qfy"
   },
   "outputs": [],
   "source": [
    "# Obtain Exif orientation tag code\n",
    "for orientation in ExifTags.TAGS.keys():\n",
    "    if ExifTags.TAGS[orientation] == 'Orientation':\n",
    "        break"
   ]
  },
  {
   "cell_type": "code",
   "execution_count": 7,
   "metadata": {
    "executionInfo": {
     "elapsed": 3024,
     "status": "ok",
     "timestamp": 1663534364291,
     "user": {
      "displayName": "Zane Z",
      "userId": "09513905782664152412"
     },
     "user_tz": 240
    },
    "id": "I41BX96G8gXq"
   },
   "outputs": [],
   "source": [
    "def orientation_reder(image_filepath,size=False):\n",
    "  # Load image\n",
    "  I = Image.open(image_filepath)\n",
    "\n",
    "  h,w = I.size\n",
    "  a= 1\n",
    "  # Load and process image metadata\n",
    "  if I._getexif():\n",
    "      exif = I._getexif()\n",
    "      try: \n",
    "        a = exif[orientation]\n",
    "        if a ==0:\n",
    "          a=1\n",
    "      except: pass\n",
    "  if size==True:\n",
    "    return a, h, w\n",
    "  else: return a\n",
    "\n",
    "ori_list=[]\n",
    "for i in range(1500):\n",
    "  ori_list.append([i,orientation_reder('yoloTACO/images/'+str(i)+'.jpg')])"
   ]
  },
  {
   "cell_type": "code",
   "execution_count": 11,
   "metadata": {
    "executionInfo": {
     "elapsed": 4,
     "status": "ok",
     "timestamp": 1663534364292,
     "user": {
      "displayName": "Zane Z",
      "userId": "09513905782664152412"
     },
     "user_tz": 240
    },
    "id": "dmMWAAzMQZcQ"
   },
   "outputs": [],
   "source": [
    "def img_box_visualizer(id):\n",
    "  image_filepath = 'yoloTACO/images/'+str(id)+'.jpg'\n",
    "  label_filepath = 'yoloTACO/labels/'+str(id)+'.txt'\n",
    "  pylab.rcParams['figure.figsize'] = (28,28)\n",
    "  ####################\n",
    "\n",
    "  # Load image\n",
    "  print(image_filepath)\n",
    "  I = Image.open(image_filepath)\n",
    "  # Show image\n",
    "  fig,ax = plt.subplots(1)\n",
    "  plt.axis('off')\n",
    "  plt.imshow(I)\n",
    "\n",
    "  # Load mask ids\n",
    "  annotations = pd.read_csv(label_filepath,header=None,delimiter=' ')\n",
    "  W,H = I.size\n",
    "  # Show annotations\n",
    "  for _,row in annotations.iterrows():\n",
    "    [x, y, w, h] = row.tolist()[1:]\n",
    "    x=round((x-w/2)*W)\n",
    "    y=round((y-h/2)*H)\n",
    "    w=round(w*W)\n",
    "    h=round(h*H)\n",
    "    rect = Rectangle((x,y),w,h,linewidth=4,edgecolor='red',facecolor='none', alpha=0.7, linestyle = '--')\n",
    "    ax.add_patch(rect)\n",
    "  plt.show()"
   ]
  },
  {
   "cell_type": "code",
   "execution_count": 13,
   "metadata": {
    "colab": {
     "base_uri": "https://localhost:8080/",
     "height": 1000,
     "output_embedded_package_id": "1xBA4oRq8pukQ_NoL0Kog9_Ki6HyBAouf"
    },
    "executionInfo": {
     "elapsed": 13625,
     "status": "ok",
     "timestamp": 1663534377913,
     "user": {
      "displayName": "Zane Z",
      "userId": "09513905782664152412"
     },
     "user_tz": 240
    },
    "id": "aQaaP8CQ-Jhe",
    "outputId": "235380bb-ffa7-4a67-cd1b-5174c489f3db"
   },
   "outputs": [],
   "source": [
    "# Some pictures' EXIF orientation is not 1 and that may be a problem\n",
    "# See a problematic example below:\n",
    "id = 48   \n",
    "img_box_visualizer(id)\n"
   ]
  },
  {
   "cell_type": "code",
   "execution_count": 10,
   "metadata": {
    "colab": {
     "base_uri": "https://localhost:8080/"
    },
    "executionInfo": {
     "elapsed": 8,
     "status": "ok",
     "timestamp": 1663534377913,
     "user": {
      "displayName": "Zane Z",
      "userId": "09513905782664152412"
     },
     "user_tz": 240
    },
    "id": "BcJkHIgZDd2U",
    "outputId": "8a68be60-f10d-4b5e-c631-4697db402502"
   },
   "outputs": [
    {
     "name": "stdout",
     "output_type": "stream",
     "text": [
      "--2022-09-18 20:52:47--  https://raw.githubusercontent.com/john-science/exif_delete/master/exif_delete.py\n",
      "Resolving raw.githubusercontent.com (raw.githubusercontent.com)... 185.199.109.133, 185.199.108.133, 185.199.110.133, ...\n",
      "Connecting to raw.githubusercontent.com (raw.githubusercontent.com)|185.199.109.133|:443... connected.\n",
      "HTTP request sent, awaiting response... 200 OK\n",
      "Length: 3432 (3.4K) [text/plain]\n",
      "Saving to: ‘exif_delete.py’\n",
      "\n",
      "exif_delete.py      100%[===================>]   3.35K  --.-KB/s    in 0s      \n",
      "\n",
      "2022-09-18 20:52:48 (57.2 MB/s) - ‘exif_delete.py’ saved [3432/3432]\n",
      "\n"
     ]
    }
   ],
   "source": [
    "!wget https://raw.githubusercontent.com/john-science/exif_delete/master/exif_delete.py"
   ]
  },
  {
   "cell_type": "code",
   "execution_count": 11,
   "metadata": {
    "executionInfo": {
     "elapsed": 5,
     "status": "ok",
     "timestamp": 1663534377914,
     "user": {
      "displayName": "Zane Z",
      "userId": "09513905782664152412"
     },
     "user_tz": 240
    },
    "id": "neH3LTMERINN"
   },
   "outputs": [],
   "source": [
    "from exif_delete import *"
   ]
  },
  {
   "cell_type": "code",
   "execution_count": 12,
   "metadata": {
    "colab": {
     "base_uri": "https://localhost:8080/"
    },
    "executionInfo": {
     "elapsed": 1319129,
     "status": "ok",
     "timestamp": 1663535697038,
     "user": {
      "displayName": "Zane Z",
      "userId": "09513905782664152412"
     },
     "user_tz": 240
    },
    "id": "NCNb4BzxCrJw",
    "outputId": "0270364d-4821-4cf0-d41b-c3b7aca51824"
   },
   "outputs": [
    {
     "name": "stderr",
     "output_type": "stream",
     "text": [
      "100%|██████████| 575/575 [22:09<00:00,  2.31s/it]\n"
     ]
    }
   ],
   "source": [
    "# Rotate pictures and save a clean copy\n",
    "for id,orientation_ in tqdm([i for i in ori_list if i[1]!=1]):\n",
    "  image_filepath = 'yoloTACO/images/'+str(id)+'.jpg'\n",
    "  ####################\n",
    "  if orientation_!=1:\n",
    "    # Load image\n",
    "    exif_delete(image_filepath, image_filepath)"
   ]
  },
  {
   "cell_type": "code",
   "execution_count": 13,
   "metadata": {
    "colab": {
     "base_uri": "https://localhost:8080/"
    },
    "executionInfo": {
     "elapsed": 1934,
     "status": "ok",
     "timestamp": 1663535698960,
     "user": {
      "displayName": "Zane Z",
      "userId": "09513905782664152412"
     },
     "user_tz": 240
    },
    "id": "AcY5nb6gE38e",
    "outputId": "7ccaa61e-24a1-49f1-c464-8b352abeb936"
   },
   "outputs": [
    {
     "data": {
      "text/plain": [
       "{1}"
      ]
     },
     "execution_count": 13,
     "metadata": {},
     "output_type": "execute_result"
    }
   ],
   "source": [
    "#check if there are orientation that's NOT 1\n",
    "set([orientation_reder('yoloTACO/images/'+str(i)+'.jpg') for i in range(1500)])"
   ]
  },
  {
   "cell_type": "code",
   "execution_count": 14,
   "metadata": {
    "colab": {
     "base_uri": "https://localhost:8080/",
     "height": 1000,
     "output_embedded_package_id": "1aBXjNzP9CxsWF_jGsgE4_94ErUik8yht"
    },
    "executionInfo": {
     "elapsed": 13455,
     "status": "ok",
     "timestamp": 1663535712407,
     "user": {
      "displayName": "Zane Z",
      "userId": "09513905782664152412"
     },
     "user_tz": 240
    },
    "id": "u4Q7Vrx_Den7",
    "outputId": "ab03e372-c751-4f12-d42e-9c8bd4d72db2"
   },
   "outputs": [],
   "source": [
    "# Visualize again picture 48, see if correct now\n",
    "id = 48   \n",
    "img_box_visualizer(id)"
   ]
  },
  {
   "cell_type": "code",
   "execution_count": 15,
   "metadata": {
    "executionInfo": {
     "elapsed": 421575,
     "status": "ok",
     "timestamp": 1663536133978,
     "user": {
      "displayName": "Zane Z",
      "userId": "09513905782664152412"
     },
     "user_tz": 240
    },
    "id": "1dtLX1tMFF0Q"
   },
   "outputs": [],
   "source": [
    "%%capture\n",
    "# Save processed images and label to google drive\n",
    "\n",
    "from google.colab import drive\n",
    "drive.mount('/gdrive')\n",
    "\n",
    "!zip -r /gdrive/MyDrive/rotated2.zip /content/yoloTACO/*"
   ]
  }
 ],
 "metadata": {
  "colab": {
   "authorship_tag": "ABX9TyOWd1qsJ0R0rpNOgZ1kbm3v",
   "collapsed_sections": [],
   "machine_shape": "hm",
   "provenance": []
  },
  "kernelspec": {
   "display_name": "Python 3 (ipykernel)",
   "language": "python",
   "name": "python3"
  },
  "language_info": {
   "codemirror_mode": {
    "name": "ipython",
    "version": 3
   },
   "file_extension": ".py",
   "mimetype": "text/x-python",
   "name": "python",
   "nbconvert_exporter": "python",
   "pygments_lexer": "ipython3",
   "version": "3.8.13"
  }
 },
 "nbformat": 4,
 "nbformat_minor": 4
}
